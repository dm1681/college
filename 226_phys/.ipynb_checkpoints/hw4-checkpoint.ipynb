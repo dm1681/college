{
 "cells": [
  {
   "cell_type": "code",
   "execution_count": 11,
   "metadata": {
    "collapsed": false
   },
   "outputs": [
    {
     "data": {
      "text/latex": [
       "$2.9006997 \\; \\mathrm{}$"
      ],
      "text/plain": [
       "<Quantity 2.900699673261598>"
      ]
     },
     "execution_count": 11,
     "metadata": {},
     "output_type": "execute_result"
    }
   ],
   "source": [
    "import numpy as np\n",
    "from astropy import units as u\n",
    "from astropy import constants as const\n",
    "# masses\n",
    "MeV = u.def_unit('MeV',10**6*u.eV)\n",
    "GeV = u.def_unit('GeV',10**9*u.eV)\n",
    "e = 0.511998919 * u.MeV\n",
    "e_err = 0.000000013 * u.MeV\n",
    "\n",
    "c12 = 11177.9291448 * u.MeV\n",
    "c12_err = 0.0000684 * u.MeV\n",
    "\n",
    "me = (4.369*10**14) * u.MeV # No err because this is approximating mass = 70kg\n",
    "me_err = (6.242*10**12)*u.MeV\n",
    "\n",
    "earth = (3.7275*10**37)*u.MeV\n",
    "earth_err = (0.0037*10**37)*u.MeV\n",
    "\n",
    "sun = (1.24115*10**43)*u.MeV\n",
    "sun_err = (0.00156*10**43)*u.MeV\n",
    "\n",
    "\n",
    "def p(val,val_err):\n",
    "    p = -np.log10(val_err/val)\n",
    "    return p\n",
    "\n",
    "p(sun,sun_err)\n"
   ]
  },
  {
   "cell_type": "code",
   "execution_count": 17,
   "metadata": {
    "collapsed": false
   },
   "outputs": [
    {
     "name": "stdout",
     "output_type": "stream",
     "text": [
      "0.9387839983099999 GeV\n"
     ]
    }
   ],
   "source": [
    "mp = 0.938272013 * u.GeV\n",
    "me = 0.511998910 * u.MeV\n",
    "h2 = mp + me - 13.6*u.eV\n",
    "d = 1877.05 * u.MeV\n",
    "de = h2 - d\n",
    "print (h2)"
   ]
  },
  {
   "cell_type": "code",
   "execution_count": 21,
   "metadata": {
    "collapsed": false
   },
   "outputs": [
    {
     "data": {
      "text/latex": [
       "$517.63809 \\; \\mathrm{Hz}$"
      ],
      "text/plain": [
       "<Quantity 517.6380902050416 Hz>"
      ]
     },
     "execution_count": 21,
     "metadata": {},
     "output_type": "execute_result"
    }
   ],
   "source": [
    "v_a = const.c/(2*np.cos(15*u.deg))\n",
    "f_a = 400 *u.Hz\n",
    "\n",
    "v_b = const.c/(2*np.cos(30*u.deg))\n",
    "f_b = 800 * u.Hz\n",
    "\n",
    "v_c = -const.c/(2*np.cos(30*u.deg))\n",
    "f_c = 1000 * u.Hz\n",
    "\n",
    "def f_obs(f_src,v):\n",
    "    f_obs = f_src*((1+v/const.c)/(1-v/const.c))**(1/2)\n",
    "    return f_obs\n",
    "v = v_c\n",
    "f_src = f_c \n",
    "f_obs(f_src,v)"
   ]
  },
  {
   "cell_type": "code",
   "execution_count": 28,
   "metadata": {
    "collapsed": false
   },
   "outputs": [
    {
     "name": "stdout",
     "output_type": "stream",
     "text": [
      "5599.886792089067 lyr 12.833995157510284 10687.915251348868 lyr 24.494897427831784 53439.57625674434 lyr 122.47448713915891\n"
     ]
    }
   ],
   "source": [
    "def gamma(v):\n",
    "    gamma = (1-(v/const.c)**2)**(-1/2)\n",
    "    return gamma\n",
    "\n",
    "def circ_dist(deg):\n",
    "    x = (deg/360)*(2*np.pi*25000*u.lyr)\n",
    "    return x\n",
    "\n",
    "def ang_dir(x):\n",
    "    theta = x * 360/(2*np.pi*25000*u.lyr)\n",
    "    return theta\n",
    "g_a = gamma(v_a)\n",
    "g_b = gamma(v_b)\n",
    "g_c = gamma(v_c)\n",
    "\n",
    "x_a = circ_dist(15)\n",
    "x_b = circ_dist(30)\n",
    "x_c = circ_dist(150)\n",
    "\n",
    "xp_a = x_a/g_a\n",
    "xp_b = x_b/g_b\n",
    "xp_c = x_c/g_c\n",
    "\n",
    "print (xp_a, ang_dir(xp_a),xp_b,ang_dir(xp_b),xp_c,ang_dir(xp_c))"
   ]
  },
  {
   "cell_type": "code",
   "execution_count": null,
   "metadata": {
    "collapsed": true
   },
   "outputs": [],
   "source": []
  }
 ],
 "metadata": {
  "anaconda-cloud": {},
  "kernelspec": {
   "display_name": "Python [Root]",
   "language": "python",
   "name": "Python [Root]"
  },
  "language_info": {
   "codemirror_mode": {
    "name": "ipython",
    "version": 3
   },
   "file_extension": ".py",
   "mimetype": "text/x-python",
   "name": "python",
   "nbconvert_exporter": "python",
   "pygments_lexer": "ipython3",
   "version": "3.5.2"
  }
 },
 "nbformat": 4,
 "nbformat_minor": 0
}
