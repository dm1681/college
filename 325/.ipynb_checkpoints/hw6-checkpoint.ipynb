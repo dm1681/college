{
 "cells": [
  {
   "cell_type": "code",
   "execution_count": 2,
   "metadata": {
    "collapsed": false
   },
   "outputs": [],
   "source": [
    "import numpy as np\n",
    "import sympy as sp\n",
    "import mpmath as mp\n",
    "import astropy.units as u\n",
    "import astropy.constants as const\n",
    "sp.init_printing()\n"
   ]
  },
  {
   "cell_type": "code",
   "execution_count": 3,
   "metadata": {
    "collapsed": false
   },
   "outputs": [
    {
     "data": {
      "image/png": "[encoded data removed]",
      "text/latex": [
       "$$\\frac{B e^{B \\left(- E + u\\right)}}{\\left(- e^{B \\left(- E + u\\right)} + 1\\right)^{2}}$$"
      ],
      "text/plain": [
       "      B⋅(-E + u)    \n",
       "   B⋅ℯ              \n",
       "────────────────────\n",
       "                   2\n",
       "⎛   B⋅(-E + u)    ⎞ \n",
       "⎝- ℯ           + 1⎠ "
      ]
     },
     "execution_count": 3,
     "metadata": {},
     "output_type": "execute_result"
    }
   ],
   "source": [
    "u, E, B = sp.symbols('u E B')\n",
    "\n",
    "ans = 1/(1-sp.exp(B*(u-E)))\n",
    "sp.diff(ans,u)"
   ]
  },
  {
   "cell_type": "code",
   "execution_count": 21,
   "metadata": {
    "collapsed": false
   },
   "outputs": [
    {
     "data": {
      "image/png": "[encoded data removed]",
      "text/latex": [
       "$$\\frac{h w^{3}}{c^{3} \\pi^{2} \\left(e^{\\frac{h w}{T k}} - 1\\right)}$$"
      ],
      "text/plain": [
       "         3      \n",
       "      h⋅w       \n",
       "────────────────\n",
       "      ⎛ h⋅w    ⎞\n",
       "      ⎜ ───    ⎟\n",
       " 3  2 ⎜ T⋅k    ⎟\n",
       "c ⋅π ⋅⎝ℯ    - 1⎠"
      ]
     },
     "execution_count": 21,
     "metadata": {},
     "output_type": "execute_result"
    }
   ],
   "source": [
    "h, w, pi, c, k, T, B = sp.symbols('h w pi c k T B')\n",
    "\n",
    "row = (h * w**3)/(pi**2 * c**3 * (sp.exp(h*w/(k*T))-1))\n",
    "row_der = sp.diff(row,w)\n",
    "#row_der\n",
    "row"
   ]
  },
  {
   "cell_type": "code",
   "execution_count": 35,
   "metadata": {
    "collapsed": false
   },
   "outputs": [
    {
     "data": {
      "image/png": "[encoded data removed]",
      "text/latex": [
       "$$\\frac{h}{c^{3} \\pi^{2}} \\int \\frac{w^{3}}{e^{\\frac{h w}{T k}} - 1}\\, dw$$"
      ],
      "text/plain": [
       "  ⌠            \n",
       "  ⎮     3      \n",
       "  ⎮    w       \n",
       "h⋅⎮ ──────── dw\n",
       "  ⎮  h⋅w       \n",
       "  ⎮  ───       \n",
       "  ⎮  T⋅k       \n",
       "  ⎮ ℯ    - 1   \n",
       "  ⌡            \n",
       "───────────────\n",
       "      3  2     \n",
       "     c ⋅π      "
      ]
     },
     "execution_count": 35,
     "metadata": {},
     "output_type": "execute_result"
    }
   ],
   "source": [
    "sp.integrate(row,w)"
   ]
  },
  {
   "cell_type": "code",
   "execution_count": null,
   "metadata": {
    "collapsed": true
   },
   "outputs": [],
   "source": [
    "a = np.pi**2 * const.k_B**4 / (15 * const.c**3 * const.hbar**3)\n",
    "a = a.to(u.J/(u.m**3 * u.K**4))\n",
    "a"
   ]
  },
  {
   "cell_type": "code",
   "execution_count": 38,
   "metadata": {
    "collapsed": false
   },
   "outputs": [
    {
     "data": {
      "text/latex": [
       "$4.2024396 \\times 10^{-14} \\; \\mathrm{J}$"
      ],
      "text/plain": [
       "<Quantity 4.202439555357079e-14 J>"
      ]
     },
     "execution_count": 38,
     "metadata": {},
     "output_type": "execute_result"
    }
   ],
   "source": [
    "T = 2.73 * u.K\n",
    "uv = a*T**4\n",
    "u = uv * (1 * u.m**3)\n",
    "u"
   ]
  },
  {
   "cell_type": "code",
   "execution_count": 19,
   "metadata": {
    "collapsed": false
   },
   "outputs": [
    {
     "data": {
      "text/latex": [
       "$$\\left\\{w\\; |\\; w \\in \\mathbb{C} \\wedge 3 T k \\left(e^{\\frac{h w}{T k}} - 1\\right) - h w e^{\\frac{h w}{T k}} = 0 \\right\\} \\setminus \\left\\{\\frac{2 \\pi}{h} n i T k\\; |\\; n \\in \\mathbb{Z}\\right\\}$$"
      ],
      "text/plain": [
       "⎧                  ⎛ h⋅w    ⎞        h⋅w    ⎫                        \n",
       "⎪                  ⎜ ───    ⎟        ───    ⎪                        \n",
       "⎨                  ⎜ T⋅k    ⎟        T⋅k    ⎬   ⎧2⋅n⋅ⅈ⋅π⋅T⋅k        ⎫\n",
       "⎪w | w ∊ ℂ ∧ 3⋅T⋅k⋅⎝ℯ    - 1⎠ - h⋅w⋅ℯ    = 0⎪ \\ ⎨─────────── | n ∊ ℤ⎬\n",
       "⎩                                           ⎭   ⎩     h             ⎭"
      ]
     },
     "execution_count": 19,
     "metadata": {},
     "output_type": "execute_result"
    }
   ],
   "source": [
    "#y = 3*k*T*sp.exp(h*w/(k*T)) - 3*k*T - h*w*sp.exp(h*w/(k*T))\n",
    "sp.solveset(row_der,w)\n"
   ]
  },
  {
   "cell_type": "code",
   "execution_count": 20,
   "metadata": {
    "collapsed": false
   },
   "outputs": [
    {
     "data": {
      "image/png": "[encoded data removed]",
      "text/latex": [
       "$$\\left\\{a\\; |\\; a \\in \\mathbb{C} \\wedge - a e^{a} + 3 e^{a} - 3 = 0 \\right\\}$$"
      ],
      "text/plain": [
       "⎧                 a      a        ⎫\n",
       "⎨a | a ∊ ℂ ∧ - a⋅ℯ  + 3⋅ℯ  - 3 = 0⎬\n",
       "⎩                                 ⎭"
      ]
     },
     "execution_count": 20,
     "metadata": {},
     "output_type": "execute_result"
    }
   ],
   "source": [
    "a = sp.symbols('a')\n",
    "y = 3*sp.exp(a) - a*sp.exp(a)-3\n",
    "sp.solveset(y,a)"
   ]
  },
  {
   "cell_type": "code",
   "execution_count": 36,
   "metadata": {
    "collapsed": false
   },
   "outputs": [
    {
     "data": {
      "image/png": "[encoded data removed]",
      "text/latex": [
       "$$- \\frac{0.125 \\sqrt{2} \\sqrt{\\pi} A^{2}}{a^{0.5} m} h^{2} - \\frac{A^{2} k}{2 a^{3}}$$"
      ],
      "text/plain": [
       "               2  -0.5  2    2  \n",
       "  0.125⋅√2⋅√π⋅A ⋅a    ⋅h    A ⋅k\n",
       "- ─────────────────────── - ────\n",
       "             m                 3\n",
       "                            2⋅a "
      ]
     },
     "execution_count": 36,
     "metadata": {},
     "output_type": "execute_result"
    }
   ],
   "source": [
    "x, m, A, = sp.symbols('x m A')\n",
    "ham = ((-h**2)/(2*m))*(A**2)*a**(1/2)*sp.sqrt(sp.pi)/(sp.sqrt(2)) + (k*A**2)/(4*a**2)\n",
    "ham2 = sp.diff(ham,a) \n",
    "ham3 = sp.diff(ham2,a)\n",
    "ham2\n",
    "#sp.solveset(ham3,a)"
   ]
  },
  {
   "cell_type": "code",
   "execution_count": null,
   "metadata": {
    "collapsed": true
   },
   "outputs": [],
   "source": []
  }
 ],
 "metadata": {
  "anaconda-cloud": {},
  "kernelspec": {
   "display_name": "Python [conda root]",
   "language": "python",
   "name": "conda-root-py"
  },
  "language_info": {
   "codemirror_mode": {
    "name": "ipython",
    "version": 3
   },
   "file_extension": ".py",
   "mimetype": "text/x-python",
   "name": "python",
   "nbconvert_exporter": "python",
   "pygments_lexer": "ipython3",
   "version": "3.5.2"
  }
 },
 "nbformat": 4,
 "nbformat_minor": 1
}
