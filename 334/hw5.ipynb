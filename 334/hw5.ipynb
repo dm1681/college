{
 "cells": [
  {
   "cell_type": "code",
   "execution_count": 22,
   "metadata": {
    "collapsed": false
   },
   "outputs": [
    {
     "data": {
      "text/latex": [
       "$89.999993 \\; \\mathrm{{}^{\\circ}}$"
      ],
      "text/plain": [
       "<Quantity 89.99999276177053 deg>"
      ]
     },
     "execution_count": 22,
     "metadata": {},
     "output_type": "execute_result"
    }
   ],
   "source": [
    "import numpy as np\n",
    "import astropy.units as u\n",
    "import astropy.constants as const\n",
    "\n",
    "f_in = 1000 *u.Hz\n",
    "r1 = 1000 *u.Ohm\n",
    "r2 = 1000 *u.Ohm\n",
    "c1 = 80e-9 *u.Farad\n",
    "r_r1r2 = (1/r1 + 1/r2)**(-1)\n",
    "w_c = 1/(r_r1r2*c1)\n",
    "w = 2*np.pi*f_in\n",
    "w_rat = (w/w_c).decompose()\n",
    "\n",
    "T = w_rat/np.sqrt(1+w_rat**2)\n",
    "wc = w*c1\n",
    "z_c = 1/(wc**2).value\n",
    "z_r = 1/2\n",
    "phase = np.arctan(z_c/z_r)\n",
    "phase = phase * u.rad\n",
    "phase = phase.to(u.deg)\n",
    "phase\n",
    "\n"
   ]
  },
  {
   "cell_type": "code",
   "execution_count": null,
   "metadata": {
    "collapsed": true
   },
   "outputs": [],
   "source": []
  }
 ],
 "metadata": {
  "anaconda-cloud": {},
  "kernelspec": {
   "display_name": "Python [conda root]",
   "language": "python",
   "name": "conda-root-py"
  },
  "language_info": {
   "codemirror_mode": {
    "name": "ipython",
    "version": 3
   },
   "file_extension": ".py",
   "mimetype": "text/x-python",
   "name": "python",
   "nbconvert_exporter": "python",
   "pygments_lexer": "ipython3",
   "version": "3.5.2"
  }
 },
 "nbformat": 4,
 "nbformat_minor": 1
}
