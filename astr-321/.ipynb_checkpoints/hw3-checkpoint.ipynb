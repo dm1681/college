{
 "cells": [
  {
   "cell_type": "code",
   "execution_count": 1,
   "metadata": {
    "collapsed": true
   },
   "outputs": [],
   "source": [
    "import numpy as np\n",
    "import astropy.units as u\n",
    "import astropy.constants as const\n"
   ]
  },
  {
   "cell_type": "code",
   "execution_count": 9,
   "metadata": {
    "collapsed": true
   },
   "outputs": [
    {
     "name": "stdout",
     "output_type": "stream",
     "text": [
      "width for a = 1 AU 5.126902352781255e-07 m width for a = (5000.5) AU 3.84536901381171e-07 m\n"
     ]
    }
   ],
   "source": [
    "rho = 1000*u.kg/(u.m**3)\n",
    "eps = const.L_sun/(4 * np.pi * const.c * const.G * const.M_sun * rho)\n",
    "r = 1 * u.AU\n",
    "a1 = 1 * u.AU\n",
    "a2 = (10001/2) * u.AU\n",
    "w1 = - eps / (r/(2*a1) - 2)\n",
    "w2 = - eps / (r/(2*a2) - 2)\n",
    "w1 = w1.decompose()\n",
    "w2 = w2.decompose()\n",
    "print('width for a = 1 AU',w1, 'width for a = (5000.5) AU',w2)"
   ]
  },
  {
   "cell_type": "code",
   "execution_count": 10,
   "metadata": {
    "collapsed": false
   },
   "outputs": [
    {
     "data": {
      "text/latex": [
       "$7.6903535 \\times 10^{-7} \\; \\mathrm{\\frac{s^{3}\\,W}{kg\\,m}}$"
      ],
      "text/plain": [
       "<Quantity 7.690353529171883e-07 s3 W / (kg m)>"
      ]
     },
     "execution_count": 10,
     "metadata": {},
     "output_type": "execute_result"
    }
   ],
   "source": [
    "r_c = ()"
   ]
  },
  {
   "cell_type": "code",
   "execution_count": 11,
   "metadata": {
    "collapsed": false
   },
   "outputs": [
    {
     "data": {
      "text/latex": [
       "$3.846 \\times 10^{26} \\; \\mathrm{W}$"
      ],
      "text/plain": [
       "<Constant name='Solar luminosity' value=3.846e+26 uncertainty=5e+22 unit='W' reference=\"Allen's Astrophysical Quantities 4th Ed.\">"
      ]
     },
     "execution_count": 11,
     "metadata": {},
     "output_type": "execute_result"
    }
   ],
   "source": [
    "const.L_sun"
   ]
  },
  {
   "cell_type": "code",
   "execution_count": null,
   "metadata": {
    "collapsed": true
   },
   "outputs": [],
   "source": []
  }
 ],
 "metadata": {
  "anaconda-cloud": {},
  "kernelspec": {
   "display_name": "Python [default]",
   "language": "python",
   "name": "python3"
  },
  "language_info": {
   "codemirror_mode": {
    "name": "ipython",
    "version": 3
   },
   "file_extension": ".py",
   "mimetype": "text/x-python",
   "name": "python",
   "nbconvert_exporter": "python",
   "pygments_lexer": "ipython3",
   "version": "3.5.2"
  }
 },
 "nbformat": 4,
 "nbformat_minor": 1
}
