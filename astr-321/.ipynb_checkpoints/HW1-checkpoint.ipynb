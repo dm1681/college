{
 "cells": [
  {
   "cell_type": "code",
   "execution_count": 1,
   "metadata": {
    "collapsed": true
   },
   "outputs": [],
   "source": [
    "import numpy as np\n",
    "import astropy.units as u\n",
    "import astropy.constants as const\n",
    "import matplotlib.pyplot as plt\n",
    "%matplotlib inline"
   ]
  },
  {
   "cell_type": "code",
   "execution_count": 2,
   "metadata": {
    "collapsed": false
   },
   "outputs": [
    {
     "data": {
      "text/latex": [
       "$3.7407547 \\times 10^{26} \\; \\mathrm{W}$"
      ],
      "text/plain": [
       "<Quantity 3.740754654357344e+26 W>"
      ]
     },
     "execution_count": 2,
     "metadata": {},
     "output_type": "execute_result"
    }
   ],
   "source": [
    "distance = 3 * u.AU\n",
    "albedo = 0.5\n",
    "temperature = 190 * u.K\n",
    "P = const.sigma_sb * temperature**4 * 4 * np.pi * distance ** 2\n",
    "P_sun = 2 * P\n",
    "P_sun = P_sun.to(u.W)\n",
    "P_sun\n",
    "\n",
    "\n",
    "\n"
   ]
  },
  {
   "cell_type": "code",
   "execution_count": 3,
   "metadata": {
    "collapsed": false
   },
   "outputs": [
    {
     "data": {
      "text/latex": [
       "$5749.1099 \\; \\mathrm{K}$"
      ],
      "text/plain": [
       "<Quantity 5749.109864678498 K>"
      ]
     },
     "execution_count": 3,
     "metadata": {},
     "output_type": "execute_result"
    }
   ],
   "source": [
    "theta = (0.177/2) * u.deg\n",
    "r = distance * np.tan(theta)\n",
    "r = r.to(u.m)\n",
    "T = (P_sun/(4 * np.pi * r **2 * const.sigma_sb))**(1/4)\n",
    "T = T.to(u.K)\n",
    "T"
   ]
  },
  {
   "cell_type": "code",
   "execution_count": 4,
   "metadata": {
    "collapsed": false
   },
   "outputs": [
    {
     "data": {
      "text/latex": [
       "$1.6247716 \\times 10^{10} \\; \\mathrm{yr}$"
      ],
      "text/plain": [
       "<Quantity 16247715874.722412 yr>"
      ]
     },
     "execution_count": 4,
     "metadata": {},
     "output_type": "execute_result"
    }
   ],
   "source": [
    "M_sun = const.M_sun * 1.35\n",
    "n_hyd = 0.1 * M_sun / (const.m_p)\n",
    "m_he = 4.002602 * u.u\n",
    "Mass_energy_released = (n_hyd/4)*(0.008 * m_he)\n",
    "Mass_energy_released = Mass_energy_released.to(u.kg)\n",
    "Energy_released = Mass_energy_released * const.c**2\n",
    "Energy_released = Energy_released.to(u.J)\n",
    "time = Energy_released / P_sun\n",
    "time = time.to(u.yr)\n",
    "time"
   ]
  },
  {
   "cell_type": "code",
   "execution_count": 11,
   "metadata": {
    "collapsed": false
   },
   "outputs": [
    {
     "data": {
      "text/latex": [
       "$4.891671 \\times 10^{9} \\; \\mathrm{yr}$"
      ],
      "text/plain": [
       "<Quantity 4891671022.664012 yr>"
      ]
     },
     "execution_count": 11,
     "metadata": {},
     "output_type": "execute_result"
    }
   ],
   "source": [
    "P_new = P_sun*(1.35)**4 \n",
    "t_new = Energy_released / P_new\n",
    "t_new = t_new.to(u.yr)\n",
    "t_new"
   ]
  },
  {
   "cell_type": "code",
   "execution_count": 16,
   "metadata": {
    "collapsed": false
   },
   "outputs": [
    {
     "data": {
      "text/latex": [
       "$-18768298 \\; \\mathrm{yr}$"
      ],
      "text/plain": [
       "<Quantity -18768298.36711872 yr>"
      ]
     },
     "execution_count": 16,
     "metadata": {},
     "output_type": "execute_result"
    }
   ],
   "source": [
    "U_r_sun = (3/5)*(const.G * const.M_sun**2)/(const.R_sun)\n",
    "E = -1  * U_r_sun\n",
    "E = E.to(u.J)\n",
    "t = E / const.L_sun\n",
    "t = t.to(u.yr)\n",
    "t"
   ]
  },
  {
   "cell_type": "code",
   "execution_count": 14,
   "metadata": {
    "collapsed": false
   },
   "outputs": [
    {
     "data": {
      "text/latex": [
       "$3.846 \\times 10^{26} \\; \\mathrm{W}$"
      ],
      "text/plain": [
       "<Constant name='Solar luminosity' value=3.846e+26 uncertainty=5e+22 unit='W' reference=\"Allen's Astrophysical Quantities 4th Ed.\">"
      ]
     },
     "execution_count": 14,
     "metadata": {},
     "output_type": "execute_result"
    }
   ],
   "source": [
    "const.L_sun"
   ]
  },
  {
   "cell_type": "code",
   "execution_count": 19,
   "metadata": {
    "collapsed": false
   },
   "outputs": [
    {
     "data": {
      "text/latex": [
       "$7.4951431 \\times 10^{-9} \\; \\mathrm{Hz}$"
      ],
      "text/plain": [
       "<Quantity 7.495143147240589e-09 Hz>"
      ]
     },
     "execution_count": 19,
     "metadata": {},
     "output_type": "execute_result"
    }
   ],
   "source": [
    "delta_t = (86400 * u.s) + (4e13 * u.km)/(3e5 * u.km/u.s)\n",
    "delta_t = delta_t.to(u.s)\n",
    "freq = 1/delta_t\n",
    "freq = freq.to(u.Hz)\n",
    "freq"
   ]
  },
  {
   "cell_type": "code",
   "execution_count": null,
   "metadata": {
    "collapsed": true
   },
   "outputs": [],
   "source": []
  }
 ],
 "metadata": {
  "anaconda-cloud": {},
  "kernelspec": {
   "display_name": "Python [conda root]",
   "language": "python",
   "name": "conda-root-py"
  },
  "language_info": {
   "codemirror_mode": {
    "name": "ipython",
    "version": 3
   },
   "file_extension": ".py",
   "mimetype": "text/x-python",
   "name": "python",
   "nbconvert_exporter": "python",
   "pygments_lexer": "ipython3",
   "version": "3.5.2"
  }
 },
 "nbformat": 4,
 "nbformat_minor": 1
}
