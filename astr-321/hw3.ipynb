{
 "cells": [
  {
   "cell_type": "code",
   "execution_count": 1,
   "metadata": {
    "collapsed": true
   },
   "outputs": [],
   "source": [
    "import numpy as np\n",
    "import astropy.units as u\n",
    "import astropy.constants as const\n"
   ]
  },
  {
   "cell_type": "code",
   "execution_count": 9,
   "metadata": {
    "collapsed": true
   },
   "outputs": [
    {
     "name": "stdout",
     "output_type": "stream",
     "text": [
      "width for a = 1 AU 5.126902352781255e-07 m width for a = (5000.5) AU 3.84536901381171e-07 m\n"
     ]
    }
   ],
   "source": [
    "rho = 1000*u.kg/(u.m**3)\n",
    "eps = const.L_sun/(4 * np.pi * const.c * const.G * const.M_sun * rho)\n",
    "r = 1 * u.AU\n",
    "a1 = 1 * u.AU\n",
    "a2 = (10001/2) * u.AU\n",
    "w1 = - eps / (r/(2*a1) - 2)\n",
    "w2 = - eps / (r/(2*a2) - 2)\n",
    "w1 = w1.decompose()\n",
    "w2 = w2.decompose()\n",
    "print('width for a = 1 AU',w1, 'width for a = (5000.5) AU',w2)"
   ]
  },
  {
   "cell_type": "code",
   "execution_count": 14,
   "metadata": {
    "collapsed": false
   },
   "outputs": [
    {
     "data": {
      "text/latex": [
       "$1.4351812 \\; \\mathrm{}$"
      ],
      "text/plain": [
       "<Quantity 1.435181224409489>"
      ]
     },
     "execution_count": 14,
     "metadata": {},
     "output_type": "execute_result"
    }
   ],
   "source": [
    "r_c = (const.M_sun/(2*rho))**(1/3)\n",
    "r_c = r_c.decompose()\n",
    "r_c = r_c/(const.R_sun)\n",
    "r_c # in solar radii"
   ]
  },
  {
   "cell_type": "code",
   "execution_count": 20,
   "metadata": {
    "collapsed": false
   },
   "outputs": [
    {
     "data": {
      "text/latex": [
       "$-3577.3613 \\; \\mathrm{yr}$"
      ],
      "text/plain": [
       "<Quantity -3577.3612720444557 yr>"
      ]
     },
     "execution_count": 20,
     "metadata": {},
     "output_type": "execute_result"
    }
   ],
   "source": [
    "r2 = 1.5 * u.AU\n",
    "r1 = 1 * u.AU\n",
    "d = 0.1 * u.m\n",
    "A = d**2\n",
    "Vol = d**3\n",
    "T = 400 * u.K\n",
    "F_yark = (A * const.sigma_sb * T **4)/const.c\n",
    "F_yark = F_yark.to(u.N)\n",
    "delta_v = np.sqrt(const.G * const.M_sun / r2) - np.sqrt(const.G * const.M_sun / r1)\n",
    "delta_v = delta_v.to(u.m/u.s)\n",
    "delta_t = rho * Vol * delta_v / F_yark\n",
    "delta_t = delta_t.to(u.yr)\n",
    "delta_t"
   ]
  },
  {
   "cell_type": "code",
   "execution_count": 22,
   "metadata": {
    "collapsed": false
   },
   "outputs": [
    {
     "data": {
      "text/latex": [
       "$0.9843022 \\; \\mathrm{AU}$"
      ],
      "text/plain": [
       "<Quantity 0.9843022049540696 AU>"
      ]
     },
     "execution_count": 22,
     "metadata": {},
     "output_type": "execute_result"
    }
   ],
   "source": [
    "mp = 1 * const.M_jup\n",
    "ms = 1 * const.M_sun\n",
    "d = 5 * u.AU\n",
    "a = d * (mp / (mp + ms))**(1/3)\n",
    "2*a"
   ]
  },
  {
   "cell_type": "code",
   "execution_count": 50,
   "metadata": {
    "collapsed": false
   },
   "outputs": [
    {
     "data": {
      "text/latex": [
       "$2.161491 \\times 10^{-9} \\; \\mathrm{}$"
      ],
      "text/plain": [
       "<Quantity 2.161491019433195e-09>"
      ]
     },
     "execution_count": 50,
     "metadata": {},
     "output_type": "execute_result"
    }
   ],
   "source": [
    "def calc_per(a, mp, ms):\n",
    "    M = mp + ms\n",
    "    P = np.sqrt((a**3 * 4 * np.pi**2)/(const.G * M))\n",
    "    return P\n",
    "\n",
    "def calc_rad_v(P, mp, ms):\n",
    "    M = mp + ms\n",
    "    v = mp * (2 * np.pi * const.G /(P * M **2))**(1/3)\n",
    "    return v\n",
    "\n",
    "a = 0.1 * u.AU\n",
    "mp = 1 * const.M_jup\n",
    "ms = 1 * const.M_sun\n",
    "P = calc_per(a, mp, ms)\n",
    "v_rad = calc_rad_v(P, mp, ms)\n",
    "v_rad = v_rad.to(u.m/u.s)\n",
    "\n",
    "dip_earth = (const.R_earth/const.R_sun)**2\n",
    "dip_jup = (const.R_jup/const.R_sun)**2\n",
    "dur_earth = 13 * np.sqrt(1 * u.AU)\n",
    "dur_jup_p1 = 13 * np.sqrt(0.1*u.AU)\n",
    "dur_jup_10 = 13 * np.sqrt(10*u.AU)\n",
    "d = 1 * u.AU\n",
    "d = d.to(u.m)\n",
    "d = d/const.R_sun\n",
    "B = (1/(d**2))*(1/(100**2))\n",
    "B"
   ]
  },
  {
   "cell_type": "code",
   "execution_count": 57,
   "metadata": {
    "collapsed": false
   },
   "outputs": [
    {
     "data": {
      "text/latex": [
       "$31553761 \\; \\mathrm{s}$"
      ],
      "text/plain": [
       "<Quantity 31553760.89442592 s>"
      ]
     },
     "execution_count": 57,
     "metadata": {},
     "output_type": "execute_result"
    }
   ],
   "source": [
    "a = 1*u.AU\n",
    "mp = 1 * const.M_earth\n",
    "ms = 1 * const.M_sun\n",
    "p = calc_per(a, mp, ms)\n",
    "p = p.to(u.s)\n",
    "p"
   ]
  },
  {
   "cell_type": "code",
   "execution_count": 60,
   "metadata": {
    "collapsed": false
   },
   "outputs": [
    {
     "data": {
      "text/latex": [
       "$0.00046491838 \\; \\mathrm{}$"
      ],
      "text/plain": [
       "<Quantity 0.0004649183820234682>"
      ]
     },
     "execution_count": 60,
     "metadata": {},
     "output_type": "execute_result"
    }
   ],
   "source": [
    "d = 2 * const.R_sun\n",
    "r = 10 * u.AU\n",
    "P = d/(2*r)\n",
    "P = P.decompose()\n",
    "P"
   ]
  },
  {
   "cell_type": "code",
   "execution_count": null,
   "metadata": {
    "collapsed": true
   },
   "outputs": [],
   "source": []
  }
 ],
 "metadata": {
  "anaconda-cloud": {},
  "kernelspec": {
   "display_name": "Python [default]",
   "language": "python",
   "name": "python3"
  },
  "language_info": {
   "codemirror_mode": {
    "name": "ipython",
    "version": 3
   },
   "file_extension": ".py",
   "mimetype": "text/x-python",
   "name": "python",
   "nbconvert_exporter": "python",
   "pygments_lexer": "ipython3",
   "version": "3.5.2"
  }
 },
 "nbformat": 4,
 "nbformat_minor": 1
}
