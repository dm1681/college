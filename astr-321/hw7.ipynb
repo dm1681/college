{
 "cells": [
  {
   "cell_type": "code",
   "execution_count": 3,
   "metadata": {
    "collapsed": false
   },
   "outputs": [],
   "source": [
    "import numpy as np\n",
    "import astropy.constants as const\n",
    "import astropy.units as u\n",
    "import matplotlib.pyplot as plt\n",
    "import matplotlib.style\n",
    "plt.style.use('fivethirtyeight')\n",
    "%matplotlib inline"
   ]
  },
  {
   "cell_type": "code",
   "execution_count": 11,
   "metadata": {
    "collapsed": false
   },
   "outputs": [
    {
     "data": {
      "text/latex": [
       "$307.50847 \\; \\mathrm{GPa}$"
      ],
      "text/plain": [
       "<Quantity 307.50847182342767 GPa>"
      ]
     },
     "execution_count": 11,
     "metadata": {},
     "output_type": "execute_result"
    }
   ],
   "source": [
    "# 1\n",
    "\n",
    "r_earth = 6400 * u.km\n",
    "r_core = 3500 * u.km\n",
    "r_mantle = r_earth - r_core\n",
    "den_core = 11000 * u.kg/(u.m**3)\n",
    "den_mantle = 5000 * u.kg/(u.m**3)\n",
    "\n",
    "P_center = (2/3) * np.pi * const.G * (den_core**2 * r_core**2 + den_mantle**2 * (r_earth**2 - r_core**2))\n",
    "P_center = P_center.to(u.GPa)\n",
    "P_center\n",
    "\n"
   ]
  },
  {
   "cell_type": "code",
   "execution_count": 15,
   "metadata": {
    "collapsed": false
   },
   "outputs": [
    {
     "data": {
      "text/latex": [
       "$1.0871512 \\; \\mathrm{\\frac{m}{s^{2}}}$"
      ],
      "text/plain": [
       "<Quantity 1.087151163012118 m / s2>"
      ]
     },
     "execution_count": 15,
     "metadata": {},
     "output_type": "execute_result"
    }
   ],
   "source": [
    "M_core = den_core * (4/3) * np.pi * r_core **3\n",
    "g_c = const.G * M_core / r_core**2\n",
    "g_c = g_c.to(u.m/u.s**2)\n",
    "g_c/9.9"
   ]
  },
  {
   "cell_type": "code",
   "execution_count": 18,
   "metadata": {
    "collapsed": false
   },
   "outputs": [
    {
     "data": {
      "text/latex": [
       "$8.3698659 \\; \\mathrm{km}$"
      ],
      "text/plain": [
       "<Quantity 8.369865907820383 km>"
      ]
     },
     "execution_count": 18,
     "metadata": {},
     "output_type": "execute_result"
    }
   ],
   "source": [
    "P = 612 * u.Pa\n",
    "rho = 500 * u.kg/(u.m**3)\n",
    "R2 = 3 * P / (const.G * 2 * np.pi * rho**2)\n",
    "R = np.sqrt(R2)\n",
    "D = 2 * R\n",
    "D = D.to(u.km)\n",
    "D\n"
   ]
  },
  {
   "cell_type": "code",
   "execution_count": 23,
   "metadata": {
    "collapsed": false
   },
   "outputs": [
    {
     "data": {
      "text/latex": [
       "$0.96881523 \\; \\mathrm{Pa}$"
      ],
      "text/plain": [
       "<Quantity 0.968815227815813 Pa>"
      ]
     },
     "execution_count": 23,
     "metadata": {},
     "output_type": "execute_result"
    }
   ],
   "source": [
    "P0 = 101325 * u.Pa\n",
    "Z = 4 * u.km\n",
    "T = 300 * u.K\n",
    "mu = 2\n",
    "mh = const.m_p\n",
    "g = const.g0\n",
    "H = const.k_B * T / (g * mu * mh)\n",
    "P = P0 * np.exp(-Z/H)\n",
    "P/101325"
   ]
  },
  {
   "cell_type": "code",
   "execution_count": 27,
   "metadata": {
    "collapsed": false
   },
   "outputs": [
    {
     "name": "stderr",
     "output_type": "stream",
     "text": [
      "/home/dm1681/anaconda3/lib/python3.5/site-packages/ipykernel/__main__.py:2: RuntimeWarning: divide by zero encountered in true_divide\n",
      "  from ipykernel import kernelapp as app\n"
     ]
    },
    {
     "data": {
      "text/plain": [
       "[<matplotlib.lines.Line2D at 0x7ff9cd90c0f0>]"
      ]
     },
     "execution_count": 27,
     "metadata": {},
     "output_type": "execute_result"
    },
    {
     "data": {
      "image/png": "[encoded data removed]",
      "text/plain": [
       "<matplotlib.figure.Figure at 0x7ff9d0021cf8>"
      ]
     },
     "metadata": {},
     "output_type": "display_data"
    }
   ],
   "source": [
    "T = np.linspace(0,100,60000)\n",
    "P = np.exp(-1/T)\n",
    "\n",
    "fig,ax = plt.subplots(1,1)\n",
    "fig.set_size_inches(8,8)\n",
    "\n",
    "ax.plot(T, P)\n"
   ]
  },
  {
   "cell_type": "code",
   "execution_count": null,
   "metadata": {
    "collapsed": true
   },
   "outputs": [],
   "source": []
  }
 ],
 "metadata": {
  "kernelspec": {
   "display_name": "Python [default]",
   "language": "python",
   "name": "python3"
  },
  "language_info": {
   "codemirror_mode": {
    "name": "ipython",
    "version": 3
   },
   "file_extension": ".py",
   "mimetype": "text/x-python",
   "name": "python",
   "nbconvert_exporter": "python",
   "pygments_lexer": "ipython3",
   "version": "3.5.2"
  }
 },
 "nbformat": 4,
 "nbformat_minor": 1
}
