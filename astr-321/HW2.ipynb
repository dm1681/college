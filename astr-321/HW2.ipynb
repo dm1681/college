{
 "cells": [
  {
   "cell_type": "code",
   "execution_count": 1,
   "metadata": {
    "collapsed": true
   },
   "outputs": [],
   "source": [
    "import numpy as np\n",
    "import matplotlib.pyplot as plt\n",
    "import astropy.units as u\n",
    "import astropy.constants as const\n"
   ]
  },
  {
   "cell_type": "code",
   "execution_count": 14,
   "metadata": {
    "collapsed": false
   },
   "outputs": [
    {
     "data": {
      "text/latex": [
       "$41.610848 \\; \\mathrm{\\frac{km}{s}}$"
      ],
      "text/plain": [
       "<Quantity 41.610847673977396 km / s>"
      ]
     },
     "execution_count": 14,
     "metadata": {},
     "output_type": "execute_result"
    }
   ],
   "source": [
    "# 3\n",
    "a = 20.5 * u.AU\n",
    "P = np.sqrt(a**3 * 4 * np.pi **2 / (const.G*const.M_sun))\n",
    "P = P.to(u.yr)\n",
    "\n",
    "V_esc = 11.2 * u.km / u.s\n",
    "V_inf_sqr = const.G * const.M_sun * ((2/(1*u.AU))-(1/(20.5 * u.AU)))\n",
    "V_imp_sqr = V_inf_sqr + V_esc**2\n",
    "V_imp = np.sqrt(V_imp_sqr)\n",
    "V_imp = V_imp.to(u.km/u.s)\n",
    "V_inf = np.sqrt(V_inf_sqr)\n",
    "V_inf = V_inf.to(u.km/u.s)\n",
    "V_inf"
   ]
  },
  {
   "cell_type": "code",
   "execution_count": 16,
   "metadata": {
    "collapsed": false
   },
   "outputs": [
    {
     "data": {
      "text/latex": [
       "$5400 \\; \\mathrm{s}$"
      ],
      "text/plain": [
       "<Quantity 5400.0 s>"
      ]
     },
     "execution_count": 16,
     "metadata": {},
     "output_type": "execute_result"
    }
   ],
   "source": [
    "P = 90  * 60 * u.s\n",
    "P"
   ]
  },
  {
   "cell_type": "code",
   "execution_count": 19,
   "metadata": {
    "collapsed": false
   },
   "outputs": [
    {
     "data": {
      "text/plain": [
       "(<Quantity 15.033342959439427 km>, <Quantity 0.03546767312952277 km>)"
      ]
     },
     "execution_count": 19,
     "metadata": {},
     "output_type": "execute_result"
    }
   ],
   "source": [
    "F_sun = (const.R_sun ** 3) / (1 * u.AU)**2\n",
    "F_moon = ((1737 * u.km)**3) / (384400 * u.km)**2 \n",
    "F_sun.to(u.km), F_moon"
   ]
  },
  {
   "cell_type": "code",
   "execution_count": 20,
   "metadata": {
    "collapsed": false
   },
   "outputs": [
    {
     "data": {
      "text/latex": [
       "$4.1649771 \\; \\mathrm{yr^{2/3}}$"
      ],
      "text/plain": [
       "<Quantity 4.164977092751979 yr(2/3)>"
      ]
     },
     "execution_count": 20,
     "metadata": {},
     "output_type": "execute_result"
    }
   ],
   "source": [
    "P = 8.5 * u.yr\n",
    "a = P ** (2/3)\n",
    "a"
   ]
  },
  {
   "cell_type": "code",
   "execution_count": 23,
   "metadata": {
    "collapsed": false
   },
   "outputs": [
    {
     "data": {
      "text/latex": [
       "$0.35494984 \\; \\mathrm{AU}$"
      ],
      "text/plain": [
       "<Quantity 0.3549498420501248 AU>"
      ]
     },
     "execution_count": 23,
     "metadata": {},
     "output_type": "execute_result"
    }
   ],
   "source": [
    "r = const.G * const.M_sun / (50 * u.km/u.s)**2\n",
    "r = r.to(u.AU)\n",
    "r"
   ]
  },
  {
   "cell_type": "markdown",
   "metadata": {},
   "source": [
    "P = 8.5 * u .yr\n",
    "b = 12.5* u.m/u.s * P / (2 * np.pi)\n",
    "b = b.to(u.AU)\n",
    "M_p = (b / (4.16 * u.AU))*const.M_sun\n",
    "M_p = M_p / const.M_jup\n",
    "M_p,b"
   ]
  },
  {
   "cell_type": "code",
   "execution_count": 41,
   "metadata": {
    "collapsed": false
   },
   "outputs": [
    {
     "data": {
      "text/plain": [
       "0.8512"
      ]
     },
     "execution_count": 41,
     "metadata": {},
     "output_type": "execute_result"
    }
   ],
   "source": [
    "mass_b = 2 * 27 * (27e-5) + 4 * 16 * (1e-2) + 1 * 40 * (40e-5)\n",
    "mass_c = 24 * (24e-4) + 3*16*(1e-2) + 56 * (56e-4)\n",
    "mass_c"
   ]
  },
  {
   "cell_type": "code",
   "execution_count": 35,
   "metadata": {
    "collapsed": false
   },
   "outputs": [
    {
     "data": {
      "text/plain": [
       "0.01008"
      ]
     },
     "execution_count": 35,
     "metadata": {},
     "output_type": "execute_result"
    }
   ],
   "source": [
    "6.3e-4 * 16"
   ]
  },
  {
   "cell_type": "code",
   "execution_count": 40,
   "metadata": {
    "collapsed": false
   },
   "outputs": [
    {
     "data": {
      "text/plain": [
       "0.0006309573444801943"
      ]
     },
     "execution_count": 40,
     "metadata": {},
     "output_type": "execute_result"
    }
   ],
   "source": [
    "(10**7)/(10**10.2)"
   ]
  },
  {
   "cell_type": "code",
   "execution_count": null,
   "metadata": {
    "collapsed": true
   },
   "outputs": [],
   "source": []
  }
 ],
 "metadata": {
  "anaconda-cloud": {},
  "kernelspec": {
   "display_name": "Python [conda root]",
   "language": "python",
   "name": "conda-root-py"
  },
  "language_info": {
   "codemirror_mode": {
    "name": "ipython",
    "version": 3
   },
   "file_extension": ".py",
   "mimetype": "text/x-python",
   "name": "python",
   "nbconvert_exporter": "python",
   "pygments_lexer": "ipython3",
   "version": "3.5.2"
  }
 },
 "nbformat": 4,
 "nbformat_minor": 1
}
