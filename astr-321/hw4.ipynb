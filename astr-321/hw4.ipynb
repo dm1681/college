{
 "cells": [
  {
   "cell_type": "code",
   "execution_count": 2,
   "metadata": {
    "collapsed": false,
    "deletable": true,
    "editable": true
   },
   "outputs": [],
   "source": [
    "import numpy as np\n",
    "import astropy.units as u\n",
    "import astropy.constants as const"
   ]
  },
  {
   "cell_type": "code",
   "execution_count": 3,
   "metadata": {
    "collapsed": false,
    "deletable": true,
    "editable": true
   },
   "outputs": [
    {
     "data": {
      "text/latex": [
       "$0.92639109 \\; \\mathrm{AU}$"
      ],
      "text/plain": [
       "<Quantity 0.9263910865463025 AU>"
      ]
     },
     "execution_count": 3,
     "metadata": {},
     "output_type": "execute_result"
    }
   ],
   "source": [
    "E = 10 * u.eV\n",
    "v = np.sqrt(2*E/const.m_p)\n",
    "v = v.to(u.m/u.s)\n",
    "r = 2 * const.G * const.M_sun / (v**2)\n",
    "r = r.to(u.AU)\n",
    "r"
   ]
  },
  {
   "cell_type": "code",
   "execution_count": 4,
   "metadata": {
    "collapsed": false,
    "deletable": true,
    "editable": true
   },
   "outputs": [
    {
     "data": {
      "text/latex": [
       "$3.9250474 \\; \\mathrm{}$"
      ],
      "text/plain": [
       "<Quantity 3.9250474149671377>"
      ]
     },
     "execution_count": 4,
     "metadata": {},
     "output_type": "execute_result"
    }
   ],
   "source": [
    "V = 3000 * u.m/u.s\n",
    "R_mars = 0.532 * const.R_earth\n",
    "V_esc_earth = np.sqrt(2 * const.G * const.M_earth / const.R_earth)\n",
    "V_esc_mars = np.sqrt(2 * const.G * 0.107 * const.M_earth / (R_mars))\n",
    "m_ratio = ((1 + (V_esc_earth**2)/(V**2)))/((1 + (V_esc_mars**2)/(V**2)))\n",
    "m_ratio"
   ]
  },
  {
   "cell_type": "code",
   "execution_count": 6,
   "metadata": {
    "collapsed": false,
    "deletable": true,
    "editable": true
   },
   "outputs": [
    {
     "data": {
      "text/latex": [
       "$4.3001293 \\; \\mathrm{K}$"
      ],
      "text/plain": [
       "<Quantity 4.300129298310686 K>"
      ]
     },
     "execution_count": 6,
     "metadata": {},
     "output_type": "execute_result"
    }
   ],
   "source": [
    "r = 10000 * u.AU\n",
    "T = 2 * const.m_p * const.G * const.M_sun / (5*const.k_B * r)\n",
    "T = T.to(u.K)\n",
    "T"
   ]
  },
  {
   "cell_type": "code",
   "execution_count": 7,
   "metadata": {
    "collapsed": false,
    "deletable": true,
    "editable": true
   },
   "outputs": [
    {
     "data": {
      "text/latex": [
       "$176755.46 \\; \\mathrm{yr}$"
      ],
      "text/plain": [
       "<Quantity 176755.45515881007 yr>"
      ]
     },
     "execution_count": 7,
     "metadata": {},
     "output_type": "execute_result"
    }
   ],
   "source": [
    "r = 10000 * u.AU\n",
    "vol = 4 * np.pi * r **3 /3\n",
    "rho = const.M_sun / (vol)\n",
    "t = (1/4)* np.sqrt(3 * np.pi / (2 * const.G * rho))\n",
    "t = t.to(u.yr)\n",
    "t"
   ]
  },
  {
   "cell_type": "code",
   "execution_count": 10,
   "metadata": {
    "collapsed": false,
    "deletable": true,
    "editable": true
   },
   "outputs": [
    {
     "data": {
      "text/latex": [
       "$503.54951 \\; \\mathrm{AU}$"
      ],
      "text/plain": [
       "<Quantity 503.5495126535321 AU>"
      ]
     },
     "execution_count": 10,
     "metadata": {},
     "output_type": "execute_result"
    }
   ],
   "source": [
    "r = 1e34 * (u.m**4 / u.s**2) / (const.G * const.M_sun)\n",
    "r = r.to(u.AU)\n",
    "r"
   ]
  },
  {
   "cell_type": "code",
   "execution_count": null,
   "metadata": {
    "collapsed": true,
    "deletable": true,
    "editable": true
   },
   "outputs": [],
   "source": []
  }
 ],
 "metadata": {
  "anaconda-cloud": {},
  "kernelspec": {
   "display_name": "Python 2",
   "language": "python",
   "name": "python2"
  },
  "language_info": {
   "codemirror_mode": {
    "name": "ipython",
    "version": 2
   },
   "file_extension": ".py",
   "mimetype": "text/x-python",
   "name": "python",
   "nbconvert_exporter": "python",
   "pygments_lexer": "ipython2",
   "version": "2.7.13"
  }
 },
 "nbformat": 4,
 "nbformat_minor": 1
}
