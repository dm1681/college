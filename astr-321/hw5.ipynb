{
 "cells": [
  {
   "cell_type": "code",
   "execution_count": 2,
   "metadata": {
    "collapsed": true
   },
   "outputs": [],
   "source": [
    "import numpy as np\n",
    "import astropy.units as u\n",
    "import astropy.constants as const"
   ]
  },
  {
   "cell_type": "code",
   "execution_count": 84,
   "metadata": {
    "collapsed": false
   },
   "outputs": [
    {
     "data": {
      "text/latex": [
       "$0.0052329868 \\; \\mathrm{AU}$"
      ],
      "text/plain": [
       "<Quantity 0.005232986795014612 AU>"
      ]
     },
     "execution_count": 84,
     "metadata": {},
     "output_type": "execute_result"
    }
   ],
   "source": [
    "a = 3 * u.AU\n",
    "v = 30 * u.m/u.s\n",
    "P = np.sqrt(a**3 * 4 * np.pi **2 / (const.G * const.M_sun))\n",
    "w = 2 * np.pi / P\n",
    "H = v / w\n",
    "H = H.to(u.AU)\n",
    "H"
   ]
  },
  {
   "cell_type": "code",
   "execution_count": 96,
   "metadata": {
    "collapsed": false
   },
   "outputs": [
    {
     "data": {
      "text/latex": [
       "$9.5158385 \\times 10^{9} \\; \\mathrm{yr}$"
      ],
      "text/plain": [
       "<Quantity 9515838547.929508 yr>"
      ]
     },
     "execution_count": 96,
     "metadata": {},
     "output_type": "execute_result"
    }
   ],
   "source": [
    "def rad_calc(rho, M):\n",
    "    R = (3 * M / (4 * np.pi * rho))**(1/3)\n",
    "    return R\n",
    "\n",
    "def v_esc(M,rho):\n",
    "    r = rad_calc(rho,M)\n",
    "    v_esc = np.sqrt(2 * const.G * M / r)\n",
    "    return v_esc\n",
    "\n",
    "def dt(r, P, eps, M, rho):\n",
    "    w = 2 * np.pi / P\n",
    "    ve = v_esc(M, rho)\n",
    "    v = ve/3\n",
    "    dt = 2 * M / (np.pi * r**2 * eps * w * (1 + (ve/v)**2))\n",
    "    return dt\n",
    "\n",
    "\n",
    "rho = 5000 * u.kg / (u.m**3)\n",
    "\n",
    "\n",
    "a1 = 1 * u.AU\n",
    "eps1 = 1*10**(3.5) * 0.01 * u.g /(u.cm **2)\n",
    "P1 = np.sqrt(4 * np.pi **2 *a1**3 / (const.G * const.M_sun))\n",
    "R1 = rad_calc(rho, const.M_earth)\n",
    "ve1 = v_esc(const.M_earth, rho)\n",
    "t1 = dt(R1, P1, eps1, const.M_earth, rho)\n",
    "\n",
    "\n",
    "a2 = 10 * u.AU\n",
    "eps2 = 1e2 * 0.01 * u.g/(u.cm**2)\n",
    "P2 = np.sqrt(4 * np.pi **2 *a2**3 / (const.G * const.M_sun))\n",
    "R2 = rad_calc(rho, 10 * const.M_earth)\n",
    "ve2 = v_esc(10 * const.M_earth, rho)\n",
    "t2 = dt(R2, P2, eps2, 10*const.M_earth, rho)\n",
    "\n",
    "\n",
    "t1 = t1.to(u.yr)\n",
    "t2 = t2.to(u.yr)\n",
    "\n",
    "t1\n",
    "\n",
    "\n",
    "\n",
    "\n",
    "\n"
   ]
  },
  {
   "cell_type": "code",
   "execution_count": 33,
   "metadata": {
    "collapsed": false
   },
   "outputs": [
    {
     "data": {
      "text/latex": [
       "$13261727 \\; \\mathrm{yr}$"
      ],
      "text/plain": [
       "<Quantity 13261727.14760773 yr>"
      ]
     },
     "execution_count": 33,
     "metadata": {},
     "output_type": "execute_result"
    }
   ],
   "source": [
    "P = 1 * u.yr\n",
    "eps = 316 * u.kg/(u.m**2)\n",
    "tt = ((3 * const.M_earth * rho **2)/(4 * np.pi **4))**(1/3) * 2 * P / (5 * eps)\n",
    "tt = tt.to(u.yr)\n",
    "tt"
   ]
  },
  {
   "cell_type": "code",
   "execution_count": 49,
   "metadata": {
    "collapsed": false
   },
   "outputs": [
    {
     "data": {
      "text/latex": [
       "$0.55973565 \\; \\mathrm{}$"
      ],
      "text/plain": [
       "<Quantity 0.5597356469336959>"
      ]
     },
     "execution_count": 49,
     "metadata": {},
     "output_type": "execute_result"
    }
   ],
   "source": [
    "sigma = 1e2 * 0.01* (u.g / (u.cm**2))\n",
    "r = 10 * u.AU\n",
    "M = (4 * np.pi * r **2 * sigma / (const.M_sun **(1/3)))**(3/2)\n",
    "M = M.decompose()\n",
    "M / const.M_earth"
   ]
  },
  {
   "cell_type": "code",
   "execution_count": 73,
   "metadata": {
    "collapsed": false
   },
   "outputs": [
    {
     "data": {
      "text/latex": [
       "$12850641 \\; \\mathrm{m}$"
      ],
      "text/plain": [
       "<Quantity 12850641.216577748 m>"
      ]
     },
     "execution_count": 73,
     "metadata": {},
     "output_type": "execute_result"
    }
   ],
   "source": [
    "rho = 3000 * u.kg / (u.m**3)\n",
    "v = 3 * u.km / u.s\n",
    "v = np.sqrt(v **2 + (11.2 * u.km/u.s)**2)\n",
    "#r = 50 * u.km \n",
    "r = const.R_earth\n",
    "#M = rho * (4/3) * np.pi * r **3\n",
    "M = const.M_earth\n",
    "R = ((9 * const.G * M **2)/(10 * np.pi * v**2 * r * rho))**(1/3)\n",
    "R = R.to(u.m)\n",
    "2*R #/ const.R_earth"
   ]
  },
  {
   "cell_type": "code",
   "execution_count": 64,
   "metadata": {
    "collapsed": false
   },
   "outputs": [
    {
     "data": {
      "text/latex": [
       "$1.5707963 \\times 10^{18} \\; \\mathrm{kg}$"
      ],
      "text/plain": [
       "<Quantity 1.5707963267948964e+18 kg>"
      ]
     },
     "execution_count": 64,
     "metadata": {},
     "output_type": "execute_result"
    }
   ],
   "source": [
    "M.to(u.kg)"
   ]
  },
  {
   "cell_type": "code",
   "execution_count": null,
   "metadata": {
    "collapsed": true
   },
   "outputs": [],
   "source": []
  }
 ],
 "metadata": {
  "anaconda-cloud": {},
  "kernelspec": {
   "display_name": "Python [default]",
   "language": "python",
   "name": "python3"
  },
  "language_info": {
   "codemirror_mode": {
    "name": "ipython",
    "version": 3
   },
   "file_extension": ".py",
   "mimetype": "text/x-python",
   "name": "python",
   "nbconvert_exporter": "python",
   "pygments_lexer": "ipython3",
   "version": "3.5.2"
  }
 },
 "nbformat": 4,
 "nbformat_minor": 1
}
