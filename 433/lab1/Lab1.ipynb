{
 "cells": [
  {
   "cell_type": "code",
   "execution_count": 1,
   "metadata": {
    "collapsed": true
   },
   "outputs": [],
   "source": [
    "import numpy as np\n",
    "import matplotlib.pyplot as plt\n",
    "import astropy.units as u\n",
    "import astropy.constants as const\n"
   ]
  },
  {
   "cell_type": "code",
   "execution_count": 11,
   "metadata": {},
   "outputs": [
    {
     "data": {
      "text/latex": [
       "$610 \\; \\mathrm{ns}$"
      ],
      "text/plain": [
       "<Quantity 609.9999999999998 ns>"
      ]
     },
     "execution_count": 11,
     "metadata": {},
     "output_type": "execute_result"
    }
   ],
   "source": [
    "time = (1e-6 - 25e-9) / 10\n",
    "time = time * u.s\n",
    "#time.to(u.ns)\n",
    "t1 = 25e-9 * u.s\n",
    "t1 = t1 + 6*time\n",
    "t1.to(u.ns)"
   ]
  },
  {
   "cell_type": "code",
   "execution_count": 23,
   "metadata": {},
   "outputs": [
    {
     "data": {
      "text/plain": [
       "-0.04133333333333326"
      ]
     },
     "execution_count": 23,
     "metadata": {},
     "output_type": "execute_result"
    }
   ],
   "source": [
    "(71.9-75)/75"
   ]
  },
  {
   "cell_type": "code",
   "execution_count": 18,
   "metadata": {
    "collapsed": true
   },
   "outputs": [],
   "source": [
    "def calc_speed(distance,time):\n",
    "    speed = distance/time\n",
    "    return speed\n",
    "\n",
    "def calc_error(speed):\n",
    "    tru_speed = (2/3)*const.c\n",
    "    err = abs(speed - tru_speed)/tru_speed\n",
    "    return err\n",
    "\n",
    "def meterspsec_to_nspfoot(v):\n",
    "    inverse_v = 1./v\n",
    "    inverse_v = inverse_v.to(u.ns/u.imperial.foot)\n",
    "    return inverse_v\n"
   ]
  },
  {
   "cell_type": "code",
   "execution_count": 19,
   "metadata": {},
   "outputs": [
    {
     "data": {
      "text/latex": [
       "$1.5789474 \\; \\mathrm{\\frac{ns}{ft}}$"
      ],
      "text/plain": [
       "<Quantity 1.5789473684210527 ns / ft>"
      ]
     },
     "execution_count": 19,
     "metadata": {},
     "output_type": "execute_result"
    }
   ],
   "source": [
    "distance = 1.930400000000000 * u.m\n",
    "t = 10e-9 * u.s\n",
    "speed = distance / t\n",
    "#speed/const.c, calc_error(speed)\n",
    "mps_to_nspft(speed)"
   ]
  },
  {
   "cell_type": "code",
   "execution_count": 20,
   "metadata": {},
   "outputs": [
    {
     "data": {
      "text/latex": [
       "$1.6109937 \\; \\mathrm{\\frac{ns}{ft}}$"
      ],
      "text/plain": [
       "<Quantity 1.6109936575052852 ns / ft>"
      ]
     },
     "execution_count": 20,
     "metadata": {},
     "output_type": "execute_result"
    }
   ],
   "source": [
    "t2 = 0.125 * u.us\n",
    "distance2 = 23.65 * u.m\n",
    "speed2 = (distance2/t2).to(u.m/u.s)\n",
    "#speed2/const.c, calc_error(speed2)\n",
    "mps_to_nspft(speed2)"
   ]
  },
  {
   "cell_type": "code",
   "execution_count": 6,
   "metadata": {},
   "outputs": [
    {
     "data": {
      "text/plain": [
       "(71.89999999999999, 1.7663521732655703)"
      ]
     },
     "execution_count": 6,
     "metadata": {},
     "output_type": "execute_result"
    }
   ],
   "source": [
    "r1 = 69.5 # diego\n",
    "r2 = 72.5 # dan\n",
    "r3 = 73.7 # lily\n",
    "r_mean = (r1 + r2 + r3)/3\n",
    "r = np.array([r1, r2, r3])\n",
    "r_std = np.std(r)\n",
    "r_mean, r_std"
   ]
  },
  {
   "cell_type": "code",
   "execution_count": 21,
   "metadata": {},
   "outputs": [
    {
     "data": {
      "text/latex": [
       "$1.56 \\; \\mathrm{\\frac{ns}{ft}}$"
      ],
      "text/plain": [
       "<Quantity 1.56 ns / ft>"
      ]
     },
     "execution_count": 21,
     "metadata": {},
     "output_type": "execute_result"
    }
   ],
   "source": [
    "t3 = (7.8 * (0.05 * u.us))/2\n",
    "d3 = 38.1 * u.m\n",
    "\n",
    "v3 = (d3/t3).decompose()\n",
    "#v3/const.c, calc_error(v3)\n",
    "mps_to_nspft(v3)"
   ]
  },
  {
   "cell_type": "code",
   "execution_count": 8,
   "metadata": {},
   "outputs": [
    {
     "data": {
      "text/latex": [
       "$0.195 \\; \\mathrm{\\mu s}$"
      ],
      "text/plain": [
       "<Quantity 0.195 us>"
      ]
     },
     "execution_count": 8,
     "metadata": {},
     "output_type": "execute_result"
    }
   ],
   "source": [
    "t3"
   ]
  },
  {
   "cell_type": "code",
   "execution_count": 9,
   "metadata": {},
   "outputs": [
    {
     "data": {
      "text/latex": [
       "$1.08 \\; \\mathrm{\\mu s}$"
      ],
      "text/plain": [
       "<Quantity 1.08 us>"
      ]
     },
     "execution_count": 9,
     "metadata": {},
     "output_type": "execute_result"
    }
   ],
   "source": [
    "5.4 * (0.2 * u.us)"
   ]
  },
  {
   "cell_type": "code",
   "execution_count": 10,
   "metadata": {},
   "outputs": [
    {
     "data": {
      "text/latex": [
       "$50 \\; \\mathrm{ns}$"
      ],
      "text/plain": [
       "<Quantity 50.0 ns>"
      ]
     },
     "execution_count": 10,
     "metadata": {},
     "output_type": "execute_result"
    }
   ],
   "source": [
    "(0.05 * u.us).to(u.ns)"
   ]
  },
  {
   "cell_type": "code",
   "execution_count": null,
   "metadata": {
    "collapsed": true
   },
   "outputs": [],
   "source": []
  }
 ],
 "metadata": {
  "kernelspec": {
   "display_name": "Python 3",
   "language": "python",
   "name": "python3"
  },
  "language_info": {
   "codemirror_mode": {
    "name": "ipython",
    "version": 3
   },
   "file_extension": ".py",
   "mimetype": "text/x-python",
   "name": "python",
   "nbconvert_exporter": "python",
   "pygments_lexer": "ipython3",
   "version": "3.6.1"
  }
 },
 "nbformat": 4,
 "nbformat_minor": 2
}
