{
 "cells": [
  {
   "cell_type": "code",
   "execution_count": 39,
   "metadata": {
    "collapsed": true
   },
   "outputs": [],
   "source": [
    "import numpy as np\n",
    "import astropy.units as u\n",
    "import astropy.constants as const\n",
    "import matplotlib.pyplot as plt\n",
    "%matplotlib inline"
   ]
  },
  {
   "cell_type": "code",
   "execution_count": 3,
   "metadata": {},
   "outputs": [
    {
     "data": {
      "text/plain": [
       "0.6310427487015581"
      ]
     },
     "execution_count": 3,
     "metadata": {},
     "output_type": "execute_result"
    }
   ],
   "source": [
    "# lets calc e density of \n",
    "\n",
    "C_e = 6 \n",
    "H_e = 1\n",
    "O_e = 8\n",
    "\n",
    "mol_e = 5 * C_e + 8 * H_e + 2 * O_e\n",
    "mol_e * (1/100.12) * 1.17"
   ]
  },
  {
   "cell_type": "code",
   "execution_count": 10,
   "metadata": {},
   "outputs": [
    {
     "data": {
      "text/latex": [
       "$6.6527405 \\times 10^{-10} \\; \\mathrm{m^{2}}$"
      ],
      "text/plain": [
       "<Quantity 6.652740485238823e-10 m2>"
      ]
     },
     "execution_count": 10,
     "metadata": {},
     "output_type": "execute_result"
    }
   ],
   "source": [
    "r_e = 2.818e-20 * (u.m**2) # (m^2?)\n",
    "thomps_cross = (8 * np.pi * r_e ** 2)/3\n",
    "(thomps_cross/(1e-25 * u.cm **2)).decompose()\n",
    "\n",
    "\n"
   ]
  },
  {
   "cell_type": "code",
   "execution_count": 18,
   "metadata": {},
   "outputs": [
    {
     "data": {
      "text/latex": [
       "$9.0923941 \\times 10^{-65} \\; \\mathrm{m^{2}}$"
      ],
      "text/plain": [
       "<Quantity 9.092394061420943e-65 m2>"
      ]
     },
     "execution_count": 18,
     "metadata": {},
     "output_type": "execute_result"
    }
   ],
   "source": [
    "energy = 0.662 * u.MeV\n",
    "freq = energy/const.h\n",
    "gamma = (const.c * freq / (const.m_e * const.c**2)).value\n",
    "cross = np.pi * r_e **2\n",
    "inside = np.log(1+2*gamma)/gamma**3 \n",
    "inside = inside + (2*(1+gamma)*(2*gamma**2-2*gamma-1))/(gamma**2 * (1+2*gamma)**2)\n",
    "inside = inside + (8 * gamma**2)/(3 * (1+2*gamma)**3)\n",
    "cross = cross*inside\n",
    "(cross/(1e-25*u.cm**2)).decompose()\n",
    "         "
   ]
  },
  {
   "cell_type": "code",
   "execution_count": 36,
   "metadata": {},
   "outputs": [
    {
     "data": {
      "text/latex": [
       "$2184170.9 \\; \\mathrm{V}$"
      ],
      "text/plain": [
       "<Quantity 2184170.93577747 V>"
      ]
     },
     "execution_count": 36,
     "metadata": {},
     "output_type": "execute_result"
    }
   ],
   "source": [
    "def energy_to_wavelength(energy):\n",
    "    # e = h f; c = lambda * f\n",
    "    freq = energy / const.h\n",
    "    wavelength = const.c/freq\n",
    "    return wavelength\n",
    "\n",
    "def wavelength_to_energy(wavelength):\n",
    "    freq = const.c /wavelength\n",
    "    energy = const.h * freq\n",
    "    return energy\n",
    "\n",
    "def energy_to_volts(energy):\n",
    "    volts = (energy/const.e.si).to(u.V)\n",
    "    return volts\n",
    "\n",
    "def volts_to_energy(volts):\n",
    "    energy = (volts * const.e.si).to(u.MeV)\n",
    "    return energy\n",
    "\n",
    "theta = 40 * u.deg\n",
    "\n",
    "energy0 = 0.662 * u.MeV\n",
    "# ev = V * charge\n",
    "\n",
    "\n",
    "def compton(wavelength0, theta):\n",
    "    new_wavelength = (const.h/(const.m_e * const.c)) * (1-np.cos(theta))\n",
    "    return new_wavelength.decompose()\n",
    "\n",
    "wavelength0 = energy_to_wavelength(energy0)\n",
    "new_wavelength = compton(wavelength0, theta)\n",
    "new_energy = wavelength_to_energy(new_wavelength)\n",
    "new_volts = energy_to_volts(new_energy)\n",
    "new_volts"
   ]
  },
  {
   "cell_type": "code",
   "execution_count": 54,
   "metadata": {},
   "outputs": [
    {
     "data": {
      "text/plain": [
       "<matplotlib.collections.PathCollection at 0x7ff5cc82c2e8>"
      ]
     },
     "execution_count": 54,
     "metadata": {},
     "output_type": "execute_result"
    },
    {
     "data": {
      "image/png": "[encoded data removed]",
      "text/plain": [
       "<matplotlib.figure.Figure at 0x7ff5cc8e02e8>"
      ]
     },
     "metadata": {},
     "output_type": "display_data"
    }
   ],
   "source": [
    "y = np.array([0.081,0.356,0.511,0.662]) # MeV\n",
    "x = np.array([1.23,4.94,6.86,8.77]) # peak volt\n",
    "\n",
    "fit_m, fit_b = np.polyfit(x,y,1)\n",
    "\n",
    "def calib_fit(x):\n",
    "    return fit_m * x + fit_b\n",
    "\n",
    "test_y = calib_fit(x)\n",
    "    \n",
    "fig,ax = plt.subplots(1,1)\n",
    "ax.plot(x, test_y)\n",
    "ax.scatter(x,y)\n",
    "\n"
   ]
  },
  {
   "cell_type": "code",
   "execution_count": 55,
   "metadata": {},
   "outputs": [
    {
     "data": {
      "text/plain": [
       "0.52194411017085496"
      ]
     },
     "execution_count": 55,
     "metadata": {},
     "output_type": "execute_result"
    }
   ],
   "source": [
    "calib_fit(7)"
   ]
  },
  {
   "cell_type": "code",
   "execution_count": null,
   "metadata": {
    "collapsed": true
   },
   "outputs": [],
   "source": [
    "np.readtxt()"
   ]
  }
 ],
 "metadata": {
  "kernelspec": {
   "display_name": "Python 3",
   "language": "python",
   "name": "python3"
  },
  "language_info": {
   "codemirror_mode": {
    "name": "ipython",
    "version": 3
   },
   "file_extension": ".py",
   "mimetype": "text/x-python",
   "name": "python",
   "nbconvert_exporter": "python",
   "pygments_lexer": "ipython3",
   "version": "3.6.1"
  }
 },
 "nbformat": 4,
 "nbformat_minor": 2
}
