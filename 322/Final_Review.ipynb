{
 "cells": [
  {
   "cell_type": "code",
   "execution_count": 65,
   "metadata": {
    "collapsed": true
   },
   "outputs": [],
   "source": [
    "import numpy as np\n",
    "import matplotlib.pyplot as plt\n",
    "import sympy as sp\n",
    "import astropy.units as u\n",
    "import astropy.constants as const\n",
    "%matplotlib inline\n",
    "sp.init_printing()"
   ]
  },
  {
   "cell_type": "code",
   "execution_count": 22,
   "metadata": {
    "collapsed": false
   },
   "outputs": [
    {
     "data": {
      "text/latex": [
       "$18.481603 \\; \\mathrm{T}$"
      ],
      "text/plain": [
       "<Quantity 18.48160256868545 T>"
      ]
     },
     "execution_count": 22,
     "metadata": {},
     "output_type": "execute_result"
    }
   ],
   "source": [
    "r = 0.5e-3 * u.m\n",
    "n_glass = 1.6\n",
    "v = const.c/n_glass\n",
    "w = 20e09 * u.watt\n",
    "A = np.pi * r ** 2\n",
    "s = w/A\n",
    "E = np.sqrt(2 * s / (const.c * const.eps0))\n",
    "B = E/const.c\n",
    "E = E.to(u.N/u.C)\n",
    "B= B.to(u.T)\n",
    "E_T = np.sqrt(E**2 / n_glass)\n",
    "B_T = E_T/v\n",
    "B_T = B_T.to(u.T)\n",
    "B_T\n"
   ]
  },
  {
   "cell_type": "code",
   "execution_count": 31,
   "metadata": {
    "collapsed": false
   },
   "outputs": [
    {
     "data": {
      "text/latex": [
       "$408.24829 \\; \\mathrm{\\frac{m}{s}}$"
      ],
      "text/plain": [
       "<Quantity 408.248290463863 m / s>"
      ]
     },
     "execution_count": 31,
     "metadata": {},
     "output_type": "execute_result"
    }
   ],
   "source": [
    "sigma = 6e7/(u.Ohm * u.m)\n",
    "mu = const.mu0\n",
    "f = 1e06* u.Hz\n",
    "w = 2 * np.pi * f\n",
    "k = np.sqrt(w * sigma * mu / 2)\n",
    "k = k.decompose()\n",
    "d = 1/k\n",
    "wav_len = const.c/f\n",
    "wav_len = wav_len.decompose()\n",
    "V_cu = w / k\n",
    "V_cu = V_cu.decompose()\n",
    "cu_wav_len = V_cu / f\n",
    "V_cu"
   ]
  },
  {
   "cell_type": "code",
   "execution_count": 32,
   "metadata": {
    "collapsed": false
   },
   "outputs": [
    {
     "data": {
      "text/latex": [
       "$-2.412118 \\; \\mathrm{}$"
      ],
      "text/plain": [
       "<Quantity -2.412118032205558>"
      ]
     },
     "execution_count": 32,
     "metadata": {},
     "output_type": "execute_result"
    }
   ],
   "source": [
    "# hw 5 number 2\n",
    "f = 400e06*u.Hz\n",
    "w = 2 * np.pi * f\n",
    "eps = 81 * const.eps0\n",
    "rho = 0.23 * u.Ohm * u.m\n",
    "\n",
    "ratio_mag = -1/(rho * eps * w)\n",
    "ratio_mag"
   ]
  },
  {
   "cell_type": "code",
   "execution_count": 69,
   "metadata": {
    "collapsed": false
   },
   "outputs": [
    {
     "data": {
      "text/latex": [
       "$1.0209303 \\times 10^{-6} \\; \\mathrm{\\frac{s^{3}\\,A^{2}}{kg\\,m^{2}}}$"
      ],
      "text/plain": [
       "<Quantity 1.020930280481571e-06 A2 s3 / (kg m2)>"
      ]
     },
     "execution_count": 69,
     "metadata": {},
     "output_type": "execute_result"
    }
   ],
   "source": [
    "v = (1e-2 * u.m)/(1 * u.yr)\n",
    "v = v.decompose()\n",
    "n_2 = const.c/v\n",
    "E_r = (1-n_2)/(1+n_2)\n",
    "\n",
    "I_r = E_r **2 * const.c * const.eps0 / 2\n",
    "I_r = I_r * u.Watt/(u.m)**2\n",
    "R = I_r/(1300 * u.Watt/(u.m)**2)\n",
    "R = R.decompose()\n",
    "R"
   ]
  },
  {
   "cell_type": "code",
   "execution_count": 72,
   "metadata": {
    "collapsed": false
   },
   "outputs": [
    {
     "data": {
      "text/latex": [
       "$1.1209982 \\times 10^{-7} \\; \\mathrm{\\frac{s}{m}}$"
      ],
      "text/plain": [
       "<Quantity 1.1209982432795857e-07 s / m>"
      ]
     },
     "execution_count": 72,
     "metadata": {},
     "output_type": "execute_result"
    }
   ],
   "source": [
    "w = 10**15/u.s\n",
    "sig = 1e7 / (u.Ohm * u.m)\n",
    "d = np.sqrt(2/(w*sig*const.mu0))\n",
    "d = d.decompose()\n",
    "\n",
    "k = np.sqrt(w*sig*const.mu0/2)\n",
    "k_mag = k * np.sqrt(2)\n",
    "b_e_rat = k_mag / w \n",
    "b_e_rat = b_e_rat.decompose()\n",
    "b_e_rat"
   ]
  },
  {
   "cell_type": "code",
   "execution_count": 78,
   "metadata": {
    "collapsed": false
   },
   "outputs": [
    {
     "data": {
      "text/latex": [
       "$376.73031 \\; \\mathrm{\\Omega}$"
      ],
      "text/plain": [
       "<Quantity 376.73031346177066 Ohm>"
      ]
     },
     "execution_count": 78,
     "metadata": {},
     "output_type": "execute_result"
    }
   ],
   "source": [
    "rat = const.c * const.mu0\n",
    "rat = rat.to(u.Ohm)\n",
    "rat"
   ]
  },
  {
   "cell_type": "code",
   "execution_count": 81,
   "metadata": {
    "collapsed": false
   },
   "outputs": [
    {
     "data": {
      "text/latex": [
       "$650165.17 \\; \\mathrm{m^{2}}$"
      ],
      "text/plain": [
       "<Quantity 650165.1687446432 m2>"
      ]
     },
     "execution_count": 81,
     "metadata": {},
     "output_type": "execute_result"
    }
   ],
   "source": [
    "A = const.G * const.M_sun * 1000e3*u.g * 2 * np.pi * const.c / const.L_sun\n",
    "A = A.decompose()\n",
    "A"
   ]
  },
  {
   "cell_type": "code",
   "execution_count": 86,
   "metadata": {
    "collapsed": false
   },
   "outputs": [
    {
     "data": {
      "text/latex": [
       "$27.25386 \\; \\mathrm{m}$"
      ],
      "text/plain": [
       "<Quantity 27.25385981818182 m>"
      ]
     },
     "execution_count": 86,
     "metadata": {},
     "output_type": "execute_result"
    }
   ],
   "source": [
    "n = 1.1\n",
    "f = 10e6 * u.Hz\n",
    "v = const.c / n\n",
    "wav_len = v / f\n",
    "wav_len = wav_len.decompose()\n",
    "wav_len"
   ]
  },
  {
   "cell_type": "code",
   "execution_count": 90,
   "metadata": {
    "collapsed": false
   },
   "outputs": [
    {
     "data": {
      "text/latex": [
       "$0.05165765 \\; \\mathrm{T}$"
      ],
      "text/plain": [
       "<Quantity 0.05165764959589424 T>"
      ]
     },
     "execution_count": 90,
     "metadata": {},
     "output_type": "execute_result"
    }
   ],
   "source": [
    "p = 10e3 * u.W\n",
    "w0 = 100e-6 * u.m\n",
    "e_rms = np.sqrt(2*p/(np.pi * w0**2 * const.eps0 * const.c))\n",
    "e_rms = e_rms.to(u.N/u.C)\n",
    "b_rms = e_rms / const.c\n",
    "b_rms = b_rms.to(u.T)\n",
    "b_rms"
   ]
  },
  {
   "cell_type": "code",
   "execution_count": null,
   "metadata": {
    "collapsed": true
   },
   "outputs": [],
   "source": []
  }
 ],
 "metadata": {
  "anaconda-cloud": {},
  "kernelspec": {
   "display_name": "Python [default]",
   "language": "python",
   "name": "python3"
  },
  "language_info": {
   "codemirror_mode": {
    "name": "ipython",
    "version": 3
   },
   "file_extension": ".py",
   "mimetype": "text/x-python",
   "name": "python",
   "nbconvert_exporter": "python",
   "pygments_lexer": "ipython3",
   "version": "3.5.2"
  }
 },
 "nbformat": 4,
 "nbformat_minor": 1
}
