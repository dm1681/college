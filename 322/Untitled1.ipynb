{
 "cells": [
  {
   "cell_type": "code",
   "execution_count": 1,
   "metadata": {
    "collapsed": true
   },
   "outputs": [],
   "source": [
    "import numpy as np \n",
    "import astropy.units as u \n",
    "import astropy.constants as const\n"
   ]
  },
  {
   "cell_type": "code",
   "execution_count": 15,
   "metadata": {
    "collapsed": false
   },
   "outputs": [
    {
     "data": {
      "text/latex": [
       "$1 \\; \\mathrm{}$"
      ],
      "text/plain": [
       "<Quantity 1.0>"
      ]
     },
     "execution_count": 15,
     "metadata": {},
     "output_type": "execute_result"
    }
   ],
   "source": [
    "v = (1e-2 * u.m)/(1 * u.year)\n",
    "n = const.c/v\n",
    "n = n.decompose()\n",
    "\n",
    "A = (1 * u.m)**2\n",
    "I_sun = 1300*u.watt/(u.m)**2\n",
    "I_A = I_sun * A \n",
    "I_A = I_A.to(u.J/u.s)\n",
    "I_year = I_A * 1 * u.year\n",
    "I_year = I_year.to(u.J)\n",
    "\n",
    "R = ((1-n)/(1+n))**2\n",
    "R\n",
    "\n"
   ]
  },
  {
   "cell_type": "code",
   "execution_count": 17,
   "metadata": {
    "collapsed": false
   },
   "outputs": [
    {
     "data": {
      "text/latex": [
       "$1.2615663 \\times 10^{-9} \\; \\mathrm{m}$"
      ],
      "text/plain": [
       "<Quantity 1.26156626101008e-09 m>"
      ]
     },
     "execution_count": 17,
     "metadata": {},
     "output_type": "execute_result"
    }
   ],
   "source": [
    "w = (10e15)/(u.s)\n",
    "sigma = 10e7/(u.ohm * u.m)\n",
    "\n",
    "d = np.sqrt(2/(const.mu0 * sigma * w))\n",
    "d.decompose()"
   ]
  },
  {
   "cell_type": "code",
   "execution_count": null,
   "metadata": {
    "collapsed": true
   },
   "outputs": [],
   "source": []
  }
 ],
 "metadata": {
  "anaconda-cloud": {},
  "kernelspec": {
   "display_name": "Python [default]",
   "language": "python",
   "name": "python3"
  },
  "language_info": {
   "codemirror_mode": {
    "name": "ipython",
    "version": 3
   },
   "file_extension": ".py",
   "mimetype": "text/x-python",
   "name": "python",
   "nbconvert_exporter": "python",
   "pygments_lexer": "ipython3",
   "version": "3.5.2"
  }
 },
 "nbformat": 4,
 "nbformat_minor": 1
}
