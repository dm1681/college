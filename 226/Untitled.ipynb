{
 "cells": [
  {
   "cell_type": "code",
   "execution_count": 1,
   "metadata": {
    "collapsed": false
   },
   "outputs": [],
   "source": [
    "import numpy as np\n",
    "import astropy.units as u\n",
    "import astropy.constants as const\n",
    "# order of velocity changes\n",
    "# +y, +x, -y, -x; with each delta_v = c/2\n",
    "\n",
    "# need to define lorentz transforms in x and y directions\n",
    "#def B(v):\n",
    "  #  B = v/const.c\n",
    "  #  return B\n",
    "#g = (1-B(v))**(-1/2)\n",
    "#l_x = np.ndarray([g,B(v)*g,0,0],[B(v)*g,g,0,0],[0,0,1,0],[0,0,0,1])\n",
    "#l_y = np.ndarray([g,0,B(v)*g,0],[0,1,0,0],[B(v)*g,0,g,0],[0,0,0,1])"
   ]
  },
  {
   "cell_type": "code",
   "execution_count": null,
   "metadata": {
    "collapsed": true
   },
   "outputs": [],
   "source": []
  },
  {
   "cell_type": "code",
   "execution_count": 25,
   "metadata": {
    "collapsed": false
   },
   "outputs": [],
   "source": [
    "# +y first\n",
    "from scipy import linalg\n",
    "\n",
    "v = const.c/2\n",
    "v = v.value\n",
    "def Beta(v):\n",
    "    B = v/const.c\n",
    "    return B\n",
    "def Gamma(B):\n",
    "    g = (1-B)**(-1/2)\n",
    "    return g\n",
    "v_0 = np.array([[0],[0],[0],[0]])\n",
    "B = Beta(v)\n",
    "B = B.value\n",
    "g = Gamma(B)\n",
    "f = B * g\n",
    "l_x = np.array([[g,f,0,0],[f,g,0,0],[0,0,1,0],[0,0,0,1]],dtype=float)\n",
    "l_y = np.array([[g,0,f,0],[0,1,0,0],[f,0,g,0],[0,0,0,1]],dtype=float)\n",
    "\n",
    "\n"
   ]
  },
  {
   "cell_type": "code",
   "execution_count": 45,
   "metadata": {
    "collapsed": false
   },
   "outputs": [
    {
     "data": {
      "text/latex": [
       "$[[4],~\n",
       " [0.41421356],~\n",
       " [3.0606602],~\n",
       " [0]] \\; \\mathrm{}$"
      ],
      "text/plain": [
       "<Quantity [[ 4.        ],\n",
       "           [ 0.41421356],\n",
       "           [ 3.06066017],\n",
       "           [ 0.        ]]>"
      ]
     },
     "execution_count": 45,
     "metadata": {},
     "output_type": "execute_result"
    }
   ],
   "source": [
    "# need to do three matrix multiplications\n",
    "v = const.c/2\n",
    "v = v.value\n",
    "v_3 = np.array([[2*v],[-v],[0],[0]])\n",
    "v_3 = g * v_3\n",
    "v = -v\n",
    "v_2 = np.dot(l_y,v_3)\n",
    "v = -1*v\n",
    "v_1 = np.dot(l_x,v_2)\n",
    "v_0 = np.dot(l_y,v_1)\n",
    "v_0/(2*v)"
   ]
  },
  {
   "cell_type": "code",
   "execution_count": 4,
   "metadata": {
    "collapsed": false
   },
   "outputs": [
    {
     "data": {
      "text/plain": [
       "array([[  1.27191168e+09],\n",
       "       [  2.11985280e+08],\n",
       "       [  0.00000000e+00],\n",
       "       [  0.00000000e+00]])"
      ]
     },
     "execution_count": 4,
     "metadata": {},
     "output_type": "execute_result"
    }
   ],
   "source": []
  },
  {
   "cell_type": "code",
   "execution_count": 5,
   "metadata": {
    "collapsed": false
   },
   "outputs": [
    {
     "data": {
      "text/plain": [
       "array([[  1.69588224e+09],\n",
       "       [  0.00000000e+00],\n",
       "       [  0.00000000e+00],\n",
       "       [  0.00000000e+00]])"
      ]
     },
     "execution_count": 5,
     "metadata": {},
     "output_type": "execute_result"
    }
   ],
   "source": []
  },
  {
   "cell_type": "code",
   "execution_count": 6,
   "metadata": {
    "collapsed": false
   },
   "outputs": [
    {
     "data": {
      "text/plain": [
       "6.258466265787489"
      ]
     },
     "execution_count": 6,
     "metadata": {},
     "output_type": "execute_result"
    }
   ],
   "source": [
    "p = 6\n",
    "m = 1.78\n",
    "e = (p**2 + m**2)**(1/2)\n",
    "e"
   ]
  },
  {
   "cell_type": "code",
   "execution_count": 7,
   "metadata": {
    "collapsed": false
   },
   "outputs": [
    {
     "data": {
      "text/plain": [
       "0.9587013407421527"
      ]
     },
     "execution_count": 7,
     "metadata": {},
     "output_type": "execute_result"
    }
   ],
   "source": [
    "p/e"
   ]
  },
  {
   "cell_type": "code",
   "execution_count": 9,
   "metadata": {
    "collapsed": false
   },
   "outputs": [
    {
     "data": {
      "text/latex": [
       "$0.00028741143 \\; \\mathrm{m}$"
      ],
      "text/plain": [
       "<Quantity 0.00028741143142898553 m>"
      ]
     },
     "execution_count": 9,
     "metadata": {},
     "output_type": "execute_result"
    }
   ],
   "source": [
    "v = p/e * const.c\n",
    "t = 10**(-12) * u.s\n",
    "d = v*t\n",
    "d"
   ]
  },
  {
   "cell_type": "code",
   "execution_count": 37,
   "metadata": {
    "collapsed": false
   },
   "outputs": [
    {
     "data": {
      "text/latex": [
       "$1.4142136 \\; \\mathrm{}$"
      ],
      "text/plain": [
       "<Quantity 1.4142135623730951>"
      ]
     },
     "execution_count": 37,
     "metadata": {},
     "output_type": "execute_result"
    }
   ],
   "source": [
    "v = 0.5 * const.c\n",
    "B = Beta(v)\n",
    "g = Gamma(B)\n",
    "g\n"
   ]
  },
  {
   "cell_type": "code",
   "execution_count": 32,
   "metadata": {
    "collapsed": false
   },
   "outputs": [
    {
     "data": {
      "text/plain": [
       "0.516"
      ]
     },
     "execution_count": 32,
     "metadata": {},
     "output_type": "execute_result"
    }
   ],
   "source": [
    "1.29 * 0.4"
   ]
  },
  {
   "cell_type": "code",
   "execution_count": 33,
   "metadata": {
    "collapsed": false
   },
   "outputs": [
    {
     "data": {
      "text/plain": [
       "1.032"
      ]
     },
     "execution_count": 33,
     "metadata": {},
     "output_type": "execute_result"
    }
   ],
   "source": [
    "0.516*2"
   ]
  },
  {
   "cell_type": "code",
   "execution_count": 36,
   "metadata": {
    "collapsed": false
   },
   "outputs": [
    {
     "data": {
      "text/plain": [
       "0.3172309923578959"
      ]
     },
     "execution_count": 36,
     "metadata": {},
     "output_type": "execute_result"
    }
   ],
   "source": [
    "11.374/(35.854)"
   ]
  },
  {
   "cell_type": "code",
   "execution_count": null,
   "metadata": {
    "collapsed": true
   },
   "outputs": [],
   "source": []
  }
 ],
 "metadata": {
  "anaconda-cloud": {},
  "kernelspec": {
   "display_name": "Python [default]",
   "language": "python",
   "name": "python3"
  },
  "language_info": {
   "codemirror_mode": {
    "name": "ipython",
    "version": 3
   },
   "file_extension": ".py",
   "mimetype": "text/x-python",
   "name": "python",
   "nbconvert_exporter": "python",
   "pygments_lexer": "ipython3",
   "version": "3.5.2"
  }
 },
 "nbformat": 4,
 "nbformat_minor": 1
}
