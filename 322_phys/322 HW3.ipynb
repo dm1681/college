{
 "cells": [
  {
   "cell_type": "code",
   "execution_count": 1,
   "metadata": {
    "collapsed": true
   },
   "outputs": [],
   "source": [
    "import numpy as np\n",
    "import matplotlib.pyplot as plt"
   ]
  },
  {
   "cell_type": "markdown",
   "metadata": {},
   "source": [
    "1. Immersed Conductin Sphere\n",
    "\n",
    "A conducting sphere of radius R is somehow kept at a fixed electrostatic potention $V_0$ by a battery and is immersed in a medium having conductivity $\\sigma.$ Assume the medium has vacuum permittivity $\\epsilon_0$ and permeability $\\mu_0$.\n",
    "\n",
    "a) Find the total charge on the sphere\n",
    "\n",
    "b) Find the total current flowing from the sphere\n",
    "\n",
    "c) Suppose the battery is suddenly disconnected. How long does it take for the sphere to lose half its charge?"
   ]
  },
  {
   "cell_type": "code",
   "execution_count": null,
   "metadata": {
    "collapsed": true
   },
   "outputs": [],
   "source": []
  }
 ],
 "metadata": {
  "anaconda-cloud": {},
  "kernelspec": {
   "display_name": "Python [Root]",
   "language": "python",
   "name": "Python [Root]"
  },
  "language_info": {
   "codemirror_mode": {
    "name": "ipython",
    "version": 3
   },
   "file_extension": ".py",
   "mimetype": "text/x-python",
   "name": "python",
   "nbconvert_exporter": "python",
   "pygments_lexer": "ipython3",
   "version": "3.5.2"
  }
 },
 "nbformat": 4,
 "nbformat_minor": 0
}
