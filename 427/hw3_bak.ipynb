{
 "cells": [
  {
   "cell_type": "code",
   "execution_count": 1,
   "metadata": {
    "collapsed": true
   },
   "outputs": [],
   "source": [
    "import numpy as np\n",
    "import matplotlib.pyplot as plt\n",
    "%matplotlib inline"
   ]
  },
  {
   "cell_type": "code",
   "execution_count": 2,
   "metadata": {
    "collapsed": false
   },
   "outputs": [
    {
     "data": {
      "text/plain": [
       "array([3, 5, 7, 9])"
      ]
     },
     "execution_count": 2,
     "metadata": {},
     "output_type": "execute_result"
    }
   ],
   "source": [
    "# bisection method\n",
    "\n",
    "def bisection(x, y):\n",
    "    '''\n",
    "    Input:\n",
    "    -------\n",
    "    x = independent variable, list of numbers\n",
    "    y = dependent variable, list of numbers\n",
    "    \n",
    "    Output:\n",
    "    -------\n",
    "    root = the root of the function\n",
    "    '''\n",
    "    # define starting position\n",
    "    x0 = x[0]\n",
    "    y0 = y[0]\n",
    "    \n",
    "    \n",
    "    # find first x and y where y changes sign\n",
    "    for idx,yi in enumerate(y):\n",
    "        delta_y = y0 - yi\n",
    "        if delta_y < 0:\n",
    "            yf = yi\n",
    "    \n",
    "        \n",
    "    \n",
    "    "
   ]
  },
  {
   "cell_type": "code",
   "execution_count": null,
   "metadata": {
    "collapsed": true
   },
   "outputs": [],
   "source": []
  }
 ],
 "metadata": {
  "anaconda-cloud": {},
  "kernelspec": {
   "display_name": "Python [default]",
   "language": "python",
   "name": "python3"
  },
  "language_info": {
   "codemirror_mode": {
    "name": "ipython",
    "version": 3
   },
   "file_extension": ".py",
   "mimetype": "text/x-python",
   "name": "python",
   "nbconvert_exporter": "python",
   "pygments_lexer": "ipython3",
   "version": "3.5.2"
  }
 },
 "nbformat": 4,
 "nbformat_minor": 1
}
