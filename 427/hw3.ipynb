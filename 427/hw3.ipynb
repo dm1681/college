{
 "cells": [
  {
   "cell_type": "code",
   "execution_count": 1,
   "metadata": {
    "collapsed": false
   },
   "outputs": [],
   "source": [
    "import numpy as np\n",
    "import matplotlib.pyplot as plt\n",
    "import pdb\n",
    "%matplotlib inline"
   ]
  },
  {
   "cell_type": "code",
   "execution_count": 8,
   "metadata": {
    "collapsed": false
   },
   "outputs": [
    {
     "name": "stderr",
     "output_type": "stream",
     "text": [
      "/home/dm1681/anaconda3/lib/python3.6/site-packages/ipykernel/__main__.py:27: RuntimeWarning: invalid value encountered in sqrt\n"
     ]
    },
    {
     "data": {
      "text/plain": [
       "-5.0"
      ]
     },
     "execution_count": 8,
     "metadata": {},
     "output_type": "execute_result"
    }
   ],
   "source": [
    "# bisection method\n",
    "\n",
    "def bisection(func, a, b, nmax):\n",
    "    n = 1\n",
    "    x0 = a\n",
    "    xf = b\n",
    "    while True:\n",
    "        #pdb.set_trace()\n",
    "        y0 = func(x0)\n",
    "        yf = func(xf)\n",
    "        if (y0-yf)<0: # there exists a root in the interbal\n",
    "            c = (x0-xf)/2\n",
    "            ym = func(c)\n",
    "            if (y0-ym) < 0:\n",
    "                yf = ym\n",
    "                xf = c\n",
    "                continue\n",
    "            elif (ym-yf) < 0:\n",
    "                y0 = ym\n",
    "                x0 = c\n",
    "                continue\n",
    "        n+=1\n",
    "        if n == nmax:\n",
    "            return c\n",
    "    \n",
    "def test_func(x):\n",
    "    y = np.sqrt(x)\n",
    "    return y\n",
    "\n",
    "x = 2\n",
    "err = 1e-15\n",
    "nmax = 2\n",
    "b = bisection(test_func,0,10,nmax)\n",
    "b    \n",
    "    "
   ]
  },
  {
   "cell_type": "code",
   "execution_count": null,
   "metadata": {
    "collapsed": false
   },
   "outputs": [],
   "source": [
    "np.finfo(float)"
   ]
  },
  {
   "cell_type": "code",
   "execution_count": null,
   "metadata": {
    "collapsed": false
   },
   "outputs": [],
   "source": [
    "fig,ax = plt.subplots(1,1)\n",
    "fig.set_size_inches(10,10)\n",
    "\n",
    "x = np.linspace(-10,10)\n",
    "y = np.sqrt(np.abs(x))\n",
    "\n",
    "ax.plot(x,y)"
   ]
  },
  {
   "cell_type": "code",
   "execution_count": null,
   "metadata": {
    "collapsed": true
   },
   "outputs": [],
   "source": []
  }
 ],
 "metadata": {
  "anaconda-cloud": {},
  "kernelspec": {
   "display_name": "Python 3",
   "language": "python",
   "name": "python3"
  },
  "language_info": {
   "codemirror_mode": {
    "name": "ipython",
    "version": 3
   },
   "file_extension": ".py",
   "mimetype": "text/x-python",
   "name": "python",
   "nbconvert_exporter": "python",
   "pygments_lexer": "ipython3",
   "version": "3.6.0"
  }
 },
 "nbformat": 4,
 "nbformat_minor": 1
}
