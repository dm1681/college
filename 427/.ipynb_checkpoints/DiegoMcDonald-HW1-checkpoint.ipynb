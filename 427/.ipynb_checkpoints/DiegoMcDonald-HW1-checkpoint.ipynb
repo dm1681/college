{
 "cells": [
  {
   "cell_type": "code",
   "execution_count": 167,
   "metadata": {
    "collapsed": true
   },
   "outputs": [],
   "source": [
    "import numpy as np\n",
    "import pdb\n",
    "import math\n",
    "import matplotlib.pyplot as plt\n",
    "%matplotlib inline"
   ]
  },
  {
   "cell_type": "markdown",
   "metadata": {},
   "source": [
    "## 1) Floating Point Representation"
   ]
  },
  {
   "cell_type": "code",
   "execution_count": 168,
   "metadata": {
    "collapsed": false
   },
   "outputs": [
    {
     "name": "stdout",
     "output_type": "stream",
     "text": [
      "1a: 1.1102230246251565e-16\n",
      "1b: 2.220446049250313e-16\n",
      "1c: 9.393270180926201e+307\n",
      "1d: 5e-324\n"
     ]
    }
   ],
   "source": [
    "# 1. Floating Point Representation:\n",
    "# a\n",
    "\n",
    "def one_a():\n",
    "    eps = 1\n",
    "    while True:\n",
    "        lhs = 1-eps\n",
    "        rhs = 1.0\n",
    "        if lhs == rhs:\n",
    "            eps = eps * 2\n",
    "            return eps\n",
    "            break\n",
    "        elif lhs != rhs:\n",
    "            eps = eps / 2\n",
    "            continue\n",
    "\n",
    "#b\n",
    "def one_b():\n",
    "    eps = 1\n",
    "    while True:\n",
    "        lhs = 1+eps\n",
    "        rhs = 1.0\n",
    "        if lhs == rhs:\n",
    "            eps = eps * 2\n",
    "            return eps\n",
    "            break\n",
    "        elif lhs != rhs:\n",
    "            eps = eps / 2\n",
    "            continue\n",
    "\n",
    "#c\n",
    "def one_c():\n",
    "    fraction = 0\n",
    "    for i in range(52): # 52 bits held in mantissa\n",
    "        d = 2 ** i\n",
    "        fraction += d\n",
    "\n",
    "    mantissa = float(str(1.)+ str(fraction)) # add the implied 1.\n",
    "    eps = 0\n",
    "    while True:\n",
    "        try:\n",
    "            max_float = (2 ** (eps)) * mantissa\n",
    "            eps += 1\n",
    "        except OverflowError:\n",
    "            return max_float\n",
    "            break\n",
    "#d \n",
    "def one_d():\n",
    "    fraction = 0\n",
    "    mantissa = float(str(1.)+ str(fraction)) # add the implied 1.\n",
    "    eps = 0\n",
    "    while True:\n",
    "        min_float = (2 ** (eps)) * mantissa\n",
    "        eps -= 1\n",
    "        if min_float / 2 == 0:\n",
    "            return min_float\n",
    "            break\n",
    "\n",
    "print ('1a:', one_a())\n",
    "print ('1b:', one_b())\n",
    "print ('1c:', one_c())\n",
    "print ('1d:', one_d())\n"
   ]
  },
  {
   "cell_type": "markdown",
   "metadata": {},
   "source": [
    "The above values are calculated to adhere to IEEE 754. According to IEEE 754, $\\epsilon$ is an 11 bit number (float64), however the largest of which contains 10 \"1's\", since the full 11 \"1's\" have different meanings (infinity). That means that by multiplying/dividing epsilon by 2, we will eventually reach the desired conditions for 1a) and 1b) respectively. \n",
    "\n",
    "As for 1c) and 1d), the mantissa had to be maximized and minimized respectively. The minimized mantissa = 1, since there would be 52 \"0's\" added to the implied 1, which was used in solving for the smallest representable positive number. The maximized mantissa would be 1. + 52 \"1's\", and used in order to represent the largest representable number. The rest was just finding $\\epsilon$ such that there was an OverflowError for maximum, or an equality to 0 for minimum. "
   ]
  },
  {
   "cell_type": "markdown",
   "metadata": {},
   "source": [
    "## 2) Roundoff Error\n",
    "\n",
    "Since the $\\lim_{x\\to0} \\frac{1-cos(x)}{x^2} = \\frac{0}{0} $, we must L'Hopital's rule to analytically evalulate the limit.\n",
    "\n",
    "To use L'Hopital's rule, we evaluate the derivatives of the numerator $ f(x) = 1-cos(x) $ and the denomenator $ g(x) = x^2 $, giving: \n",
    "\n",
    "$$ f'(x) = sin(x) $$ \n",
    "$$ g'(x) = 2x $$\n",
    "\n",
    "And the $\\lim_{x\\to0}\\frac{sin(x)}{2x} = \\frac{0}{0}$ so we must use L'Hopital's Rule again:\n",
    "\n",
    "$$ f''(x) = cos(x) $$\n",
    "$$ g''(x) = 2 $$ \n",
    "\n",
    "Now, the $\\lim_{x\\to0}\\frac{cos(x)}{2} = \\frac{1}{2}$\n",
    "\n",
    "Below is the numerical result:\n"
   ]
  },
  {
   "cell_type": "code",
   "execution_count": 169,
   "metadata": {
    "collapsed": false
   },
   "outputs": [
    {
     "name": "stdout",
     "output_type": "stream",
     "text": [
      "Numerical Limit @ 10^-7:  0.500497449168\n",
      "Machine parameters for float64\n",
      "---------------------------------------------------------------\n",
      "precision= 15   resolution= 1.0000000000000001e-15\n",
      "machep=   -52   eps=        2.2204460492503131e-16\n",
      "negep =   -53   epsneg=     1.1102230246251565e-16\n",
      "minexp= -1022   tiny=       2.2250738585072014e-308\n",
      "maxexp=  1024   max=        1.7976931348623157e+308\n",
      "nexp  =    11   min=        -max\n",
      "---------------------------------------------------------------\n",
      "\n",
      "Numerical Limit @ 10^-16:  0.0\n"
     ]
    }
   ],
   "source": [
    "# 2 Round Off Error\n",
    "\n",
    "def round_off_exp(x):\n",
    "    fctn = (1-np.cos(x))/(x**2)\n",
    "    return fctn\n",
    "\n",
    "N = 1e6 # number of terms in range [lower,upper)\n",
    "lower = 1e-8 # lower bound\n",
    "upper = 1e-6 # upper bound\n",
    "x = np.linspace(lower,upper,N) # range of numbers surrounding 10^(-7)\n",
    "y = round_off_exp(x)\n",
    "lim = np.mean(y) # an approximation of the limit. \n",
    "print ('Numerical Limit @ 10^-7: ',lim)\n",
    "print (np.finfo(float))\n",
    "print ('Numerical Limit @ 10^-16: ', np.mean(round_off_exp(np.linspace(1e-15,1e-17,1e6))))"
   ]
  },
  {
   "cell_type": "markdown",
   "metadata": {},
   "source": [
    "The discrepancy between these two values has to do with the way we analytically solve the $\\lim_{x\\to0}$ and how the computer numerically solves the same limit. Using L'Hopital's rule to analytically solves the limit implies using an infitesimally small value around 0 and solving through taking subsequent derivatives. The computer however, does not have the capabilities of using infitesimally small values, it has to use an actual number. Here, we have used $N = 10^{6}$ values from $10^{-8}$ to $10^{-6}$ and found the mean to approximate a value for $10^{-7}$ These necessary approximations are responsible for the roundoff error we see as a discrepancy between the analytic and numerical values\n",
    "\n",
    "I have also printed the float info for the float64 data type provided by numpy. It has a precision of $10^{-15}$, since there are only 15 bits available for the exponent in the floating point representation. So if we were to approximate $\\lim_{x\\to0}$ using any number less than $10^{-15}$ (like $10^{-16}$, done above in the third print statement), we are unable to resolve our answer, and get 0, printed last."
   ]
  },
  {
   "cell_type": "markdown",
   "metadata": {},
   "source": [
    "## 3) Interpolation"
   ]
  },
  {
   "cell_type": "code",
   "execution_count": 170,
   "metadata": {
    "collapsed": false,
    "scrolled": true
   },
   "outputs": [
    {
     "name": "stdout",
     "output_type": "stream",
     "text": [
      "1st Order:  0.088196285\n"
     ]
    }
   ],
   "source": [
    "# 3 Interpolation\n",
    "data = np.loadtxt('hw1.dat')\n",
    "x_data = data[:,0]\n",
    "y_data = data[:,1]\n",
    "\n",
    "# linear interplation\n",
    "def lin_inter(x): # x is some arbitrary point\n",
    "    for idx,val in enumerate(x_data):\n",
    "        if x < x_data[idx] and x > x_data[idx-1]:\n",
    "            x_upper = x_data[idx]\n",
    "            x_lower = x_data[idx-1]\n",
    "            y_upper = y_data[idx]\n",
    "            y_lower = y_data[idx-1]\n",
    "            \n",
    "            m = (y_upper - y_lower)/(x_upper - x_lower)\n",
    "            y = m * (x-x_lower) + y_lower\n",
    "            return y\n",
    "\n",
    "print('1st Order: ',lin_inter(0.75))\n",
    "\n"
   ]
  },
  {
   "cell_type": "code",
   "execution_count": 171,
   "metadata": {
    "collapsed": false
   },
   "outputs": [
    {
     "name": "stdout",
     "output_type": "stream",
     "text": [
      "4th Order:  -0.356826099688\n"
     ]
    }
   ],
   "source": [
    "def lang_term(x,xl,yl,xu,yu):\n",
    "    '''\n",
    "    args:\n",
    "    -----\n",
    "    x = term of interpolation\n",
    "    xl = x of lower bound\n",
    "    xu = x of upper bound\n",
    "    yl = y of lower bound\n",
    "    yu = y of upper bound\n",
    "    \n",
    "    output:\n",
    "    -------\n",
    "    P = polynomial evaluated at x, degree depending on prior polynomials (yl and yu)\n",
    "    '''\n",
    "    P = ((x - xu)*yl - (x-xl)*yu)/(xl-xu)\n",
    "    return P\n",
    "\n",
    "\n",
    "data = np.loadtxt('hw1.dat')\n",
    "x_data = data[:,0]\n",
    "y_data = data[:,1]\n",
    "\n",
    "def nev_alg(x,x_data,y_data):\n",
    "    y_0 = np.copy(y_data)\n",
    "    order = 1 # order = 1 is the starting order, \n",
    "    while order <= len(x_data): \n",
    "        for i in range(len(x_data)):\n",
    "            if i+1 >= len(y_0):\n",
    "                #pdb.set_trace()\n",
    "                order += 1 \n",
    "                y_0 = y_0[:-1]\n",
    "                break\n",
    "\n",
    "            x_lower = x_data[i]\n",
    "            y_lower = y_0[i]\n",
    "            x_upper = x_data[i+order]\n",
    "            y_upper = y_0[i+1]\n",
    "            y = lang_term(x,x_lower,y_lower,x_upper,y_upper)\n",
    "            y_0[i] = y\n",
    "            if len(y_0) == 2:\n",
    "                y_0 = y_0[:-1]\n",
    "                ans = y_0[0]\n",
    "                return ans\n",
    "                break\n",
    "            \n",
    "\n",
    "print ('4th Order: ',nev_alg(0.75,x_data,y_data))"
   ]
  },
  {
   "cell_type": "code",
   "execution_count": 177,
   "metadata": {
    "collapsed": false
   },
   "outputs": [
    {
     "data": {
      "text/plain": [
       "<matplotlib.text.Text at 0x7f244a3cc438>"
      ]
     },
     "execution_count": 177,
     "metadata": {},
     "output_type": "execute_result"
    },
    {
     "data": {
      "image/png": "[encoded data removed]",
      "text/plain": [
       "<matplotlib.figure.Figure at 0x7f244a3aee48>"
      ]
     },
     "metadata": {},
     "output_type": "display_data"
    }
   ],
   "source": [
    "# plots figure using function defined above.\n",
    "\n",
    "fig,ax = plt.subplots(1,1)\n",
    "fig.set_size_inches(5,5)\n",
    "\n",
    "x = np.linspace(-1,1,100)\n",
    "\n",
    "y_tru = 1/(1+25*x**2)\n",
    "y_lin = np.array([])\n",
    "y_4 = np.array([])\n",
    "\n",
    "for i in x:\n",
    "    y_nev = nev_alg(i,x_data,y_data)\n",
    "    y_4 = np.append(y_4,y_nev)\n",
    "    y_l = lin_inter(i)\n",
    "    y_lin = np.append(y_lin,y_l)\n",
    "\n",
    "ax.plot(x,y_lin, label = '1st Order')\n",
    "ax.plot(x,y_4, label='4th Order')\n",
    "ax.plot(x,y_tru, label = 'True Function')\n",
    "ax.vlines(0.75,-0.4,0.088, color = 'cyan')\n",
    "\n",
    "ax.legend(loc=0)\n",
    "ax.set_ylabel('y')\n",
    "ax.set_xlabel('x')"
   ]
  },
  {
   "cell_type": "markdown",
   "metadata": {},
   "source": [
    "3d) Above I have displayed the (1st Order) linear interpolation in blue, the 4th order polynomial interpolation from Neville's Algorithm in green, and the true function in red. This figure accurately displays how even though a higher order approximation takes in more terms, it can produce a less accurate approximation of the true function than a lower order approximation. In this case, I have placed a vertical line at x = 0.75 to further display this difference in accuracy."
   ]
  }
 ],
 "metadata": {
  "anaconda-cloud": {},
  "kernelspec": {
   "display_name": "Python [default]",
   "language": "python",
   "name": "python3"
  },
  "language_info": {
   "codemirror_mode": {
    "name": "ipython",
    "version": 3
   },
   "file_extension": ".py",
   "mimetype": "text/x-python",
   "name": "python",
   "nbconvert_exporter": "python",
   "pygments_lexer": "ipython3",
   "version": "3.5.2"
  }
 },
 "nbformat": 4,
 "nbformat_minor": 1
}
