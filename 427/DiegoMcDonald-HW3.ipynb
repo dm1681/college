{
 "cells": [
  {
   "cell_type": "code",
   "execution_count": 1,
   "metadata": {
    "collapsed": false
   },
   "outputs": [],
   "source": [
    "import numpy as np\n",
    "import matplotlib.pyplot as plt\n",
    "import pdb\n",
    "%matplotlib inline"
   ]
  },
  {
   "cell_type": "code",
   "execution_count": 2,
   "metadata": {
    "collapsed": true
   },
   "outputs": [],
   "source": [
    "# defining functions\n",
    "\n",
    "def same_sign(a, b):\n",
    "    '''\n",
    "    This function is used in the bisection function below \n",
    "    in order to determine the presence of a root within the \n",
    "    interval [a,b]\n",
    "    \n",
    "    Params:\n",
    "    -------\n",
    "    a, b = interval of function\n",
    "    \n",
    "    Output:\n",
    "    -------\n",
    "    True or False, depending on if they are the same sign\n",
    "    '''\n",
    "    \n",
    "    return a * b > 0\n",
    "\n",
    "def bisect(func, low, high, niter):\n",
    "    '''\n",
    "    Params:\n",
    "    -------\n",
    "    func = the function to find the root of\n",
    "    low = lower bound of the interval containing the root\n",
    "    high = upper bound of the interval containing the root\n",
    "    niter = number of iterations desired\n",
    "    \n",
    "    Output:\n",
    "    -------\n",
    "    mid = the midpoint after niter iterations\n",
    "    '''\n",
    "    \n",
    "    global x_b,y_b,n_b # np.arrays of numbers calculated below to graph progress of successive iterations\n",
    "    assert not same_sign(func(low), func(high))\n",
    "    for i in range(niter):\n",
    "        mid = (low + high)/2\n",
    "        x_b = np.append(x_b,mid)\n",
    "        y_b = np.append(y_b,func(mid))\n",
    "        if same_sign(func(low), func(mid)):\n",
    "            low = mid\n",
    "        else:\n",
    "            high = mid\n",
    "    return mid            \n",
    "\n",
    "\n",
    "def newt(func, dfunc, guess, niters):\n",
    "    '''\n",
    "    Params:\n",
    "    -------\n",
    "    func = the function to find the root of\n",
    "    dfunc = the analytic derivative of the above function\n",
    "    guess = just a guess of where the root is\n",
    "    niters = number of iterations desired\n",
    "    \n",
    "    Output:\n",
    "    -------\n",
    "    x_new = location of the root after niter iterations\n",
    "    \n",
    "    '''\n",
    "    global x_n, y_n\n",
    "    for n in range(niters):\n",
    "        #pdb.set_trace()\n",
    "        x_new = guess - func(guess)/dfunc(guess)\n",
    "        y_new = func(x_new)\n",
    "        x_n = np.append(x_n, x_new)\n",
    "        y_n = np.append(y_n, y_new)\n",
    "        guess = x_new\n",
    "    return x_new\n",
    "        \n",
    "    \n",
    "# modeling x^2 = a = 2\n",
    "def test_func(x):\n",
    "    y = x ** 2 - 2\n",
    "    return y\n",
    "\n",
    "def dtest_func(x):\n",
    "    y = 2 * x\n",
    "    return y\n",
    "\n",
    "# modeling keplers equations\n",
    "def Kepler(E):\n",
    "    '''\n",
    "    Params:\n",
    "    ------\n",
    "    E = eccentric anomoly\n",
    "    \n",
    "    Global Params:\n",
    "    --------------\n",
    "    M = mean anomoly\n",
    "    e = eccentricity\n",
    "    \n",
    "    Output:\n",
    "    ------\n",
    "    the function solved for the specifed M and e, given E\n",
    "    '''\n",
    "    \n",
    "    global M, e\n",
    "    y = M - E + e*np.sin(E)\n",
    "    return y\n",
    "\n",
    "def dKepler(E):\n",
    "    '''\n",
    "    same as above, just the first derivative w.r.t. E\n",
    "    '''\n",
    "    global M, e\n",
    "    dy = -1 + e * np.cos(E)\n",
    "    return dy\n"
   ]
  },
  {
   "cell_type": "code",
   "execution_count": 3,
   "metadata": {
    "collapsed": false
   },
   "outputs": [
    {
     "name": "stdout",
     "output_type": "stream",
     "text": [
      "# of Iterations: 5\n",
      "a)Bisection: 1.40625\n",
      "a)Newton-Raphson: 1.4142135623730951\n",
      "b)Bisection Kepler e=0.5: 1.7671458676442586\n",
      "b)Newton-Raphson Kepler e=0.5 1.96218928758\n",
      "b)Bisection Kepler e=0.9: 2.1598449493429825\n",
      "b)Newton-Raphson Kepler e=0.9: 2.2179972026\n"
     ]
    },
    {
     "data": {
      "text/plain": [
       "<matplotlib.collections.PathCollection at 0x7f81d8a9d630>"
      ]
     },
     "execution_count": 3,
     "metadata": {},
     "output_type": "execute_result"
    },
    {
     "data": {
      "image/png": "[encoded data removed]",
      "text/plain": [
       "<matplotlib.figure.Figure at 0x7f81db03f400>"
      ]
     },
     "metadata": {},
     "output_type": "display_data"
    }
   ],
   "source": [
    "# applying the above functions\n",
    "\n",
    "# bounds for the bisection method\n",
    "lower = 1\n",
    "upper = 2\n",
    "\n",
    "# number of iterations for both methods\n",
    "niter = 5\n",
    "\n",
    "# arrays containing (x_0, f(x_0), x_1, f(x_1), etc)\n",
    "# bisection\n",
    "x_b = np.array([])\n",
    "y_b = np.array([])\n",
    "n_b = np.array([])\n",
    "\n",
    "\n",
    "# the actual approximation after niter iterations\n",
    "# bisection\n",
    "b = bisect(test_func, lower, upper, niter)\n",
    "\n",
    "\n",
    "# arrays containing (x_0, f(x_0), x_1, f(x_1), etc)\n",
    "# Newton-Raphson\n",
    "# guess = initial guess (duh...)\n",
    "guess = 1        \n",
    "x_n = np.array([])\n",
    "y_n = np.array([])\n",
    "n_n = np.array([])\n",
    "\n",
    "# the actual approximation after niter iterations\n",
    "n = newt(test_func, dtest_func, guess, niter)\n",
    "\n",
    "print ('# of Iterations: '+str(niter))\n",
    "print ('a)Bisection: '+str(b))\n",
    "print ('a)Newton-Raphson: '+str(n))\n",
    "\n",
    "fig,ax = plt.subplots(1,3)\n",
    "fig.set_size_inches(15,5)\n",
    "\n",
    "ax[0].scatter(x_n,y_n, color='red', label = 'Newton-Raphson')\n",
    "ax[0].scatter(x_b,y_b, color='green', label='Bisection', alpha = 0.2)\n",
    "ax[0].set(xlim=(1,2), xlabel='x', ylabel='y', title='$X^2 = 2$')\n",
    "ax[0].legend(loc=0)\n",
    "\n",
    "\n",
    "# clears the above arrays once plotted\n",
    "# to allow for plotting of the Kepler equation\n",
    "x_n = np.array([])\n",
    "y_n = np.array([])\n",
    "x_b = np.array([])\n",
    "y_b = np.array([])\n",
    "\n",
    "M = 1.5\n",
    "e = 0.5\n",
    "k_bisection = bisect(Kepler, 0, 2*np.pi, niter)\n",
    "k_newt = newt(Kepler, dKepler, guess, niter)\n",
    "\n",
    "\n",
    "ax[1].set(title='$M = E - esin(E)$; M = 1.5 e = 0.5', xlabel='E', xlim=(0,2*np.pi))\n",
    "ax[1].scatter(x_n, y_n, color = 'red', label='Newton-Raphson')\n",
    "ax[1].scatter(x_b, y_b, color = 'green', label = 'Bisection', alpha = 0.2)\n",
    "print ('b)Bisection Kepler e=0.5: '+ str(k_bisection))\n",
    "print ('b)Newton-Raphson Kepler e=0.5 '+str(k_newt))\n",
    "\n",
    "# clears the above arrays once plotted\n",
    "# to allow for plotting of the Kepler equation\n",
    "x_n = np.array([])\n",
    "y_n = np.array([])\n",
    "x_b = np.array([])\n",
    "y_b = np.array([])\n",
    "\n",
    "M = 1.5\n",
    "e = 0.9\n",
    "k_bisection = bisect(Kepler, 0, 2*np.pi, niter)\n",
    "k_newt = newt(Kepler, dKepler, guess, niter)\n",
    "print ('b)Bisection Kepler e=0.9: '+str(k_bisection))\n",
    "print ('b)Newton-Raphson Kepler e=0.9: '+ str(k_newt))\n",
    "\n",
    "ax[2].set(title='$M = E - esin(E)$; M = 1.5 e = 0.9', xlabel='E', xlim=(0,2*np.pi))\n",
    "ax[2].scatter(x_n, y_n, color = 'red', label='Newton-Raphson')\n",
    "ax[2].scatter(x_b, y_b, color = 'green', label = 'Bisection', alpha = 0.2)\n",
    "\n",
    "\n",
    "\n"
   ]
  },
  {
   "cell_type": "markdown",
   "metadata": {},
   "source": [
    "The above figures are generated using a scatter plot instead of a line plot, because overlaying both methods for root finding would look messy and not convey they accuracy achieved for each method after 5 iterations. \n",
    "\n",
    "niters = 5 was chosen such that there would be a large enough discrepancy between the Bisection and Newton-Raphson methods. For large \"niters\", they both converge to a number within machine precision."
   ]
  },
  {
   "cell_type": "code",
   "execution_count": 4,
   "metadata": {
    "collapsed": true
   },
   "outputs": [],
   "source": [
    "# we want to get maximum precision in the fewest number of iterations, so lets rewrite the solvers above:\n",
    "\n",
    "def bisect_prec(func, low, high):\n",
    "    '''\n",
    "    Params:\n",
    "    -------\n",
    "    func = the function to find the root of\n",
    "    low = lower bound of the interval containing the root\n",
    "    high = upper bound of the interval containing the root\n",
    "    \n",
    "    Output:\n",
    "    -------\n",
    "    mid = the midpoint after niter iterations\n",
    "    '''\n",
    "    \n",
    "    global x_b,y_b,n_b # np.arrays of numbers calculated below to graph progress of successive iterations\n",
    "    assert not same_sign(func(low), func(high))\n",
    "    n = 1\n",
    "    while True:\n",
    "        n_b = np.append(n_b, n)\n",
    "        mid = (low + high)/2\n",
    "        x_b = np.append(x_b,mid)\n",
    "        y_b = np.append(y_b,func(mid))\n",
    "        if same_sign(func(low), func(mid)):\n",
    "            low = mid\n",
    "        else:\n",
    "            high = mid\n",
    "        if x_b.size >=2 and np.abs(x_b[-1] - x_b[-2])<= 1e-15: # difference is less than machine resolution\n",
    "            n_b = n_b[:-1]\n",
    "            x_b = x_b[:-1]\n",
    "            y_b = y_b[:-1] \n",
    "            break\n",
    "        n+=1\n",
    "    return mid            \n",
    "\n",
    "\n",
    "def newt_prec(func, dfunc, guess):\n",
    "    '''\n",
    "    Params:\n",
    "    -------\n",
    "    func = the function to find the root of\n",
    "    dfunc = the analytic derivative of the above function\n",
    "    guess = just a guess of where the root is\n",
    "    \n",
    "    Output:\n",
    "    -------\n",
    "    x_new = location of the root after niter iterations\n",
    "    \n",
    "    '''\n",
    "    global x_n, y_n, n_n\n",
    "    n = 1\n",
    "    #pdb.set_trace()\n",
    "    while True:\n",
    "        n_n = np.append(n_n, n)\n",
    "        x_new = guess - func(guess)/dfunc(guess)\n",
    "        y_new = func(x_new)\n",
    "        x_n = np.append(x_n, x_new)\n",
    "        y_n = np.append(y_n, y_new)\n",
    "        guess = x_new\n",
    "        # diff between last two iterations less than machine precision --> accurate enough\n",
    "        if x_n.size >=2 and np.abs(x_n[-1] - x_n[-2])<= 1e-15: \n",
    "            n_n = n_n[:-1]\n",
    "            x_n = x_n\n",
    "            y_n = y_n[:-1]\n",
    "            break\n",
    "        n+=1\n",
    "    return x_n[-1]\n",
    "        "
   ]
  },
  {
   "cell_type": "code",
   "execution_count": 5,
   "metadata": {
    "collapsed": false
   },
   "outputs": [
    {
     "name": "stdout",
     "output_type": "stream",
     "text": [
      "n = # of iterations\n",
      "\n",
      "K_newt \t\t     n \t  K_bisect \t      n\n"
     ]
    },
    {
     "data": {
      "text/plain": [
       "(2.2179972025985775, 5.0, 2.2179972025985775, 52.0)"
      ]
     },
     "execution_count": 5,
     "metadata": {},
     "output_type": "execute_result"
    }
   ],
   "source": [
    "x_n = np.array([])\n",
    "y_n = np.array([])\n",
    "x_b = np.array([])\n",
    "y_b = np.array([])\n",
    "\n",
    "M = 1.5\n",
    "e = 0.9\n",
    "k_bisection = bisect_prec(Kepler, 0, 2*np.pi)\n",
    "k_newt = newt_prec(Kepler, dKepler, guess)\n",
    "\n",
    "print ('n = # of iterations\\n')\n",
    "print ('K_newt \\t\\t     n \\t  K_bisect \\t      n')\n",
    "k_newt, n_n[-1], k_bisection, n_b[-1]"
   ]
  },
  {
   "cell_type": "markdown",
   "metadata": {},
   "source": [
    "Since the Newton-Raphson method reaches machine precision (1e-15) in 5 iterations and the Bisection method reaches machine precision in 52 iterations, it is apparent that the Newton-Raphson method achieves the same accuracy in many fewer iterations, and is preferred when wanting to solve as quickly as possible. "
   ]
  },
  {
   "cell_type": "code",
   "execution_count": 6,
   "metadata": {
    "collapsed": false
   },
   "outputs": [
    {
     "data": {
      "text/plain": [
       "[<matplotlib.text.Text at 0x7f81d7daf7f0>,\n",
       " <matplotlib.text.Text at 0x7f81d7dad828>,\n",
       " <matplotlib.text.Text at 0x7f81d7db3390>]"
      ]
     },
     "execution_count": 6,
     "metadata": {},
     "output_type": "execute_result"
    },
    {
     "data": {
      "image/png": "[encoded data removed]",
      "text/plain": [
       "<matplotlib.figure.Figure at 0x7f81d7deb358>"
      ]
     },
     "metadata": {},
     "output_type": "display_data"
    }
   ],
   "source": [
    "# now to plot for 20 equally spaced M from 0 to 2pi\n",
    "x_n = np.array([])\n",
    "y_n = np.array([])\n",
    "x_b = np.array([])\n",
    "y_b = np.array([])\n",
    "\n",
    "E_n = np.array([])\n",
    "niters = 100\n",
    "guess = 1\n",
    "M = 0\n",
    "e = 0.9\n",
    "\n",
    "# we'll use Newton so that this doesn't take forever\n",
    "while M <= 2 * np.pi:\n",
    "    E = newt(Kepler, dKepler, guess, niters) # using set number of iters b/c inf loop for M = 4pi/20\n",
    "    E_n = np.append(E_n, E)\n",
    "    M += (2 * np.pi / 20)\n",
    "    \n",
    "fig,ax = plt.subplots(1,2)\n",
    "fig.set_size_inches(10,5)\n",
    "x = np.cos(E_n)\n",
    "y = np.sin(E_n)\n",
    "\n",
    "ax[0].plot(x,y)\n",
    "ax[0].set(xlabel='$cos(E)$', ylabel='$sin(E)$', title='e=0.9')\n",
    "\n",
    "# do the same for e = 0.01 to compare to e = 0.9\n",
    "x_n = np.array([])\n",
    "y_n = np.array([])\n",
    "x_b = np.array([])\n",
    "y_b = np.array([])\n",
    "\n",
    "E_n = np.array([])\n",
    "niters = 100\n",
    "guess = 1\n",
    "M = 0\n",
    "e = 0.01\n",
    "\n",
    "# we'll use Newton so that this doesn't take forever\n",
    "while M <= 2 * np.pi:\n",
    "    E = newt(Kepler, dKepler, guess, niters) # using set number of iters b/c inf loop for M = 4pi/20\n",
    "    E_n = np.append(E_n, E)\n",
    "    M += (2 * np.pi / 20)\n",
    "\n",
    "x = np.cos(E_n)\n",
    "y = np.sin(E_n)\n",
    "    \n",
    "ax[1].plot(x,y)\n",
    "ax[1].set(xlabel='$cos(E)$', ylabel='$sin(E)$', title='e=0.01')"
   ]
  },
  {
   "cell_type": "markdown",
   "metadata": {},
   "source": [
    "For a very eccentric orbit (e=0.9) the body is moving much faster at perihelion than at aphelion, making the change in $sin(E)$ for even steps of Mean anomoly much greater, so we have worse resolution when $cos(E) > 0$. Comparing for a circular orbit (e=0.01), we see a more evenly spaced change in $sin(E)$ and therefore, greater resolution and a smoother curve."
   ]
  },
  {
   "cell_type": "code",
   "execution_count": null,
   "metadata": {
    "collapsed": true
   },
   "outputs": [],
   "source": []
  }
 ],
 "metadata": {
  "anaconda-cloud": {},
  "kernelspec": {
   "display_name": "Python [default]",
   "language": "python",
   "name": "python3"
  },
  "language_info": {
   "codemirror_mode": {
    "name": "ipython",
    "version": 3
   },
   "file_extension": ".py",
   "mimetype": "text/x-python",
   "name": "python",
   "nbconvert_exporter": "python",
   "pygments_lexer": "ipython3",
   "version": "3.5.2"
  }
 },
 "nbformat": 4,
 "nbformat_minor": 1
}
