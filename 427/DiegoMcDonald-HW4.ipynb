{
 "cells": [
  {
   "cell_type": "code",
   "execution_count": 4,
   "metadata": {
    "collapsed": true
   },
   "outputs": [],
   "source": [
    "import numpy as np\n",
    "import matplotlib.pyplot as plt\n",
    "%matplotlib inline"
   ]
  },
  {
   "cell_type": "code",
   "execution_count": 9,
   "metadata": {
    "collapsed": false
   },
   "outputs": [
    {
     "data": {
      "text/plain": [
       "2.9999999515345115"
      ]
     },
     "execution_count": 9,
     "metadata": {},
     "output_type": "execute_result"
    }
   ],
   "source": [
    "# define golden ratio\n",
    "gr = (np.sqrt(5) + 1)/2\n",
    "\n",
    "def golden_search(func, a, b, tol):\n",
    "    '''\n",
    "    Params:\n",
    "    -------\n",
    "    func = function you want to find the minima of\n",
    "    a, b = lower bound, upper bound\n",
    "    tol = when to stop\n",
    "    \n",
    "    Output:\n",
    "    -------\n",
    "    (b+a)/2 = the midpoint of the boundary that is within the tolerance defined\n",
    "    '''\n",
    "    \n",
    "    c = b - (b - a)/gr\n",
    "    d = a + (b - a)/gr\n",
    "    \n",
    "    while np.abs(c - d) > tol:\n",
    "        if func(c) < func(d): # change this back to f(c) < f(d) --> min\n",
    "            b = d\n",
    "        else:\n",
    "            a = c\n",
    "        c = b - (b-a)/gr\n",
    "        d = a + (b-a)/gr\n",
    "    return (b+a)/2\n",
    "\n",
    "def test_func(x):\n",
    "    '''\n",
    "    just a test function to make sure things are workin okay\n",
    "    '''\n",
    "    return (x-3)**2\n",
    "\n",
    "\n",
    "tol = np.sqrt(1e-15)\n",
    "test_min = golden_search(test_func, 1, 3, tol)\n",
    "test_min\n"
   ]
  },
  {
   "cell_type": "code",
   "execution_count": 3,
   "metadata": {
    "collapsed": false
   },
   "outputs": [
    {
     "data": {
      "text/plain": [
       "<matplotlib.collections.PathCollection at 0x7f5dc31a0668>"
      ]
     },
     "execution_count": 3,
     "metadata": {},
     "output_type": "execute_result"
    },
    {
     "data": {
      "image/png": "[encoded data removed]",
      "text/plain": [
       "<matplotlib.figure.Figure at 0x7f5dc570bb38>"
      ]
     },
     "metadata": {},
     "output_type": "display_data"
    }
   ],
   "source": [
    "# lets read in the data\n",
    "data = np.loadtxt('rot.dat')\n",
    "r_obs = data[:,0]\n",
    "v_obs = data[:,1]\n",
    "\n",
    "def v_model(r0, r):\n",
    "    '''\n",
    "    Params:\n",
    "    -------\n",
    "    r0 = characteristic radius\n",
    "    r = radius\n",
    "    \n",
    "    Output:\n",
    "    -------\n",
    "    v_mod = velocity predicted by the supplied model\n",
    "    '''\n",
    "    v_mod = 100 * (1 - np.exp(-r/r0))\n",
    "    return v_mod\n",
    "\n",
    "\n",
    "# now lets visualize to get an idea of what we're working with\n",
    "fig,ax = plt.subplots(1,1)\n",
    "fig.set_size_inches(3,3)\n",
    "\n",
    "ax.scatter(r_obs, v_obs)\n"
   ]
  },
  {
   "cell_type": "code",
   "execution_count": 4,
   "metadata": {
    "collapsed": false
   },
   "outputs": [
    {
     "data": {
      "text/plain": [
       "<matplotlib.legend.Legend at 0x7f5dc2cbbfd0>"
      ]
     },
     "execution_count": 4,
     "metadata": {},
     "output_type": "execute_result"
    },
    {
     "data": {
      "image/png": "[encoded data removed]",
      "text/plain": [
       "<matplotlib.figure.Figure at 0x7f5dc56e4f98>"
      ]
     },
     "metadata": {},
     "output_type": "display_data"
    }
   ],
   "source": [
    "# now to find the best r0 through minimizing the square of the errors\n",
    "\n",
    "# we want to minimize the error given by:\n",
    "\n",
    "def calc_error(r0, r_obs, v_obs):\n",
    "    '''\n",
    "    Params:\n",
    "    ------\n",
    "    r0 = characteristic radius\n",
    "    r_obs = radius\n",
    "    v_obs = velocity\n",
    "    \n",
    "    Output:\n",
    "    -------\n",
    "    err = the error between observed and model, squared    \n",
    "    '''\n",
    "    err = (v_obs - v_model(r0, r_obs))**2\n",
    "    return err\n",
    "\n",
    "def err_sum(r):\n",
    "    '''\n",
    "    Params:\n",
    "    ------\n",
    "    r = characteristic radius\n",
    "    \n",
    "    Output:\n",
    "    ------\n",
    "    err_sum = the sum of the errors between model and observed for each r0 (characteristic radius)\n",
    "    '''\n",
    "    err_r0 = np.array([])\n",
    "    for robs, vobs in zip(r_obs, v_obs):\n",
    "        e = calc_error(r, robs, vobs)\n",
    "        err_r0 = np.append(err_r0, e)\n",
    "    err_sum = np.sum(err_r0)\n",
    "    return err_sum\n",
    "\n",
    "# characteristic radius\n",
    "crit_r0 = golden_search(err_sum, 3, 4, tol)\n",
    "v_mod = v_model(crit_r0, r_obs)\n",
    "\n",
    "# plots and overlay model over observed data\n",
    "fig,ax = plt.subplots(1,1)\n",
    "fig.set_size_inches(3,3)\n",
    "\n",
    "ax.plot(r_obs, v_mod, label='r0={0:f}'.format(crit_r0))\n",
    "ax.scatter(r_obs, v_obs)\n",
    "ax.set(xlabel='r', ylabel='V')\n",
    "ax.legend(loc=4)\n",
    "\n"
   ]
  }
 ],
 "metadata": {
  "anaconda-cloud": {},
  "kernelspec": {
   "display_name": "Python [default]",
   "language": "python",
   "name": "python3"
  },
  "language_info": {
   "codemirror_mode": {
    "name": "ipython",
    "version": 3
   },
   "file_extension": ".py",
   "mimetype": "text/x-python",
   "name": "python",
   "nbconvert_exporter": "python",
   "pygments_lexer": "ipython3",
   "version": "3.5.2"
  }
 },
 "nbformat": 4,
 "nbformat_minor": 1
}
