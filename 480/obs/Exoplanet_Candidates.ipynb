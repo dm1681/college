{
 "cells": [
  {
   "cell_type": "code",
   "execution_count": 43,
   "metadata": {
    "collapsed": false
   },
   "outputs": [],
   "source": [
    "import numpy as np\n",
    "from astropy.table import QTable\n",
    "\n",
    "import astropy.units as u\n",
    "from astropy.time import Time\n",
    "from astropy.coordinates import SkyCoord\n",
    "\n",
    "from astroplan import Observer, FixedTarget"
   ]
  },
  {
   "cell_type": "code",
   "execution_count": 49,
   "metadata": {
    "collapsed": false
   },
   "outputs": [],
   "source": [
    "exo_data =  QTable.read('transits.csv', format='ascii.csv')\n"
   ]
  },
  {
   "cell_type": "code",
   "execution_count": 55,
   "metadata": {
    "collapsed": false
   },
   "outputs": [
    {
     "name": "stderr",
     "output_type": "stream",
     "text": [
      "/home/dm1681/anaconda3/lib/python3.5/site-packages/astropy/table/column.py:1095: MaskedArrayFutureWarning: setting an item on a masked array which has a shared mask will not copy the mask and also change the original mask array in the future.\n",
      "Check the NumPy 1.11 release notes for more information.\n",
      "  ma.MaskedArray.__setitem__(self, index, value)\n"
     ]
    },
    {
     "data": {
      "text/html": [
       "&lt;QTable masked=True length=2515&gt;\n",
       "<table id=\"table139715874794688\" class=\"table-striped table-bordered table-condensed\">\n",
       "<thead><tr><th># name</th><th>planet_status</th><th>mass</th><th>mass_error_min</th><th>mass_error_max</th><th>mass_sini</th><th>mass_sini_error_min</th><th>mass_sini_error_max</th><th>radius</th><th>radius_error_min</th><th>radius_error_max</th><th>orbital_period</th><th>orbital_period_error_min</th><th>orbital_period_error_max</th><th>semi_major_axis</th><th>semi_major_axis_error_min</th><th>semi_major_axis_error_max</th><th>eccentricity</th><th>eccentricity_error_min</th><th>eccentricity_error_max</th><th>inclination</th><th>inclination_error_min</th><th>inclination_error_max</th><th>angular_distance</th><th>discovered</th><th>updated</th><th>omega</th><th>omega_error_min</th><th>omega_error_max</th><th>tperi</th><th>tperi_error_min</th><th>tperi_error_max</th><th>tconj</th><th>tconj_error_min</th><th>tconj_error_max</th><th>tzero_tr</th><th>tzero_tr_error_min</th><th>tzero_tr_error_max</th><th>tzero_tr_sec</th><th>tzero_tr_sec_error_min</th><th>tzero_tr_sec_error_max</th><th>lambda_angle</th><th>lambda_angle_error_min</th><th>lambda_angle_error_max</th><th>impact_parameter</th><th>impact_parameter_error_min</th><th>impact_parameter_error_max</th><th>tzero_vr</th><th>tzero_vr_error_min</th><th>tzero_vr_error_max</th><th>k</th><th>k_error_min</th><th>k_error_max</th><th>temp_calculated</th><th>temp_calculated_error_min</th><th>temp_calculated_error_max</th><th>temp_measured</th><th>hot_point_lon</th><th>geometric_albedo</th><th>geometric_albedo_error_min</th><th>geometric_albedo_error_max</th><th>log_g</th><th>publication_status</th><th>detection_type</th><th>mass_detection_type</th><th>radius_detection_type</th><th>alternate_names</th><th>molecules</th><th>star_name</th><th>ra</th><th>dec</th><th>mag_v</th><th>mag_i</th><th>mag_j</th><th>mag_h</th><th>mag_k</th><th>star_distance</th><th>star_distance_error_min</th><th>star_distance_error_max</th><th>star_metallicity</th><th>star_metallicity_error_min</th><th>star_metallicity_error_max</th><th>star_mass</th><th>star_mass_error_min</th><th>star_mass_error_max</th><th>star_radius</th><th>star_radius_error_min</th><th>star_radius_error_max</th><th>star_sp_type</th><th>star_age</th><th>star_age_error_min</th><th>star_age_error_max</th><th>star_teff</th><th>star_teff_error_min</th><th>star_teff_error_max</th><th>star_detected_disc</th><th>star_magnetic_field</th><th>star_alternate_names</th></tr></thead>\n",
       "<thead><tr><th>str18</th><th>str9</th><th>float64</th><th>float64</th><th>float64</th><th>float64</th><th>float64</th><th>float64</th><th>float64</th><th>float64</th><th>float64</th><th>float64</th><th>float64</th><th>float64</th><th>float64</th><th>float64</th><th>float64</th><th>float64</th><th>float64</th><th>float64</th><th>float64</th><th>float64</th><th>float64</th><th>float64</th><th>int64</th><th>str10</th><th>float64</th><th>float64</th><th>float64</th><th>float64</th><th>float64</th><th>float64</th><th>float64</th><th>float64</th><th>float64</th><th>float64</th><th>float64</th><th>float64</th><th>float64</th><th>float64</th><th>float64</th><th>float64</th><th>float64</th><th>float64</th><th>float64</th><th>float64</th><th>float64</th><th>int64</th><th>float64</th><th>float64</th><th>float64</th><th>float64</th><th>float64</th><th>float64</th><th>float64</th><th>float64</th><th>float64</th><th>int64</th><th>float64</th><th>float64</th><th>float64</th><th>float64</th><th>str38</th><th>str20</th><th>str15</th><th>str15</th><th>str82</th><th>str66</th><th>str16</th><th>float64</th><th>float64</th><th>float64</th><th>float64</th><th>float64</th><th>float64</th><th>float64</th><th>float64</th><th>float64</th><th>float64</th><th>float64</th><th>float64</th><th>float64</th><th>float64</th><th>float64</th><th>float64</th><th>float64</th><th>float64</th><th>float64</th><th>str8</th><th>float64</th><th>float64</th><th>float64</th><th>float64</th><th>float64</th><th>float64</th><th>int64</th><th>str3</th><th>str72</th></tr></thead>\n",
       "<tr><td>Kepler-37 b</td><td>Confirmed</td><td>0.00874681433471</td><td>0.011641443539</td><td>0.011641443539</td><td>--</td><td>--</td><td>--</td><td>0.0285485387609</td><td>0.00178428367256</td><td>0.00178428367256</td><td>13.367308</td><td>8.5e-05</td><td>5.8e-05</td><td>0.1003</td><td>0.0011</td><td>0.0008</td><td>--</td><td>--</td><td>--</td><td>88.63</td><td>0.53</td><td>0.3</td><td>--</td><td>2013</td><td>2015-11-23</td><td>--</td><td>--</td><td>--</td><td>--</td><td>--</td><td>--</td><td>--</td><td>--</td><td>--</td><td>2455017.03271</td><td>0.00089</td><td>0.00034</td><td>--</td><td>--</td><td>--</td><td>--</td><td>--</td><td>--</td><td>--</td><td>--</td><td>--</td><td>--</td><td>--</td><td>--</td><td>--</td><td>--</td><td>--</td><td>--</td><td>--</td><td>--</td><td>--</td><td>--</td><td>--</td><td>--</td><td>--</td><td>--</td><td>Published in a refereed paper</td><td>Primary Transit</td><td>--</td><td>--</td><td>--</td><td>--</td><td>Kepler-37</td><td>284.59625</td><td>44.51817</td><td>10.3</td><td>--</td><td>--</td><td>--</td><td>--</td><td>66.0</td><td>--</td><td>--</td><td>-0.32</td><td>0.07</td><td>0.07</td><td>0.803</td><td>0.068</td><td>0.068</td><td>0.77</td><td>0.026</td><td>0.026</td><td>--</td><td>6.0</td><td>--</td><td>--</td><td>5417.0</td><td>75.0</td><td>75.0</td><td>--</td><td>--</td><td>--</td></tr>\n",
       "<tr><td>Kepler-444 b</td><td>Confirmed</td><td>--</td><td>--</td><td>--</td><td>--</td><td>--</td><td>--</td><td>0.034</td><td>0.0019</td><td>0.0019</td><td>3.60001053</td><td>8.3e-06</td><td>8.3e-06</td><td>0.04178</td><td>0.00079</td><td>0.00079</td><td>0.08</td><td>0.08</td><td>0.22</td><td>88.0</td><td>1.2</td><td>0.6</td><td>--</td><td>2015</td><td>2016-01-12</td><td>--</td><td>--</td><td>--</td><td>--</td><td>--</td><td>--</td><td>--</td><td>--</td><td>--</td><td>2454966.2599</td><td>0.0018</td><td>0.0018</td><td>--</td><td>--</td><td>--</td><td>--</td><td>--</td><td>--</td><td>--</td><td>--</td><td>--</td><td>--</td><td>--</td><td>--</td><td>--</td><td>--</td><td>--</td><td>--</td><td>--</td><td>--</td><td>--</td><td>--</td><td>--</td><td>--</td><td>--</td><td>--</td><td>Published in a refereed paper</td><td>Primary Transit</td><td>--</td><td>Primary Transit</td><td>--</td><td>--</td><td>Kepler-444</td><td>289.754166667</td><td>41.634722236</td><td>9.0</td><td>--</td><td>--</td><td>--</td><td>--</td><td>--</td><td>--</td><td>--</td><td>-0.55</td><td>0.07</td><td>0.07</td><td>0.758</td><td>0.043</td><td>0.043</td><td>0.752</td><td>0.014</td><td>0.014</td><td>--</td><td>11.23</td><td>0.99</td><td>0.99</td><td>5046.0</td><td>74.0</td><td>74.0</td><td>--</td><td>--</td><td>--</td></tr>\n",
       "<tr><td>Kepler-102 b</td><td>Confirmed</td><td>0.0013</td><td>0.005</td><td>0.005</td><td>--</td><td>--</td><td>--</td><td>0.042</td><td>0.002</td><td>0.002</td><td>5.28696</td><td>--</td><td>--</td><td>0.055</td><td>--</td><td>--</td><td>--</td><td>--</td><td>--</td><td>--</td><td>--</td><td>--</td><td>--</td><td>2014</td><td>2015-12-10</td><td>--</td><td>--</td><td>--</td><td>--</td><td>--</td><td>--</td><td>--</td><td>--</td><td>--</td><td>--</td><td>--</td><td>--</td><td>--</td><td>--</td><td>--</td><td>--</td><td>--</td><td>--</td><td>0.06</td><td>0.06</td><td>0.06</td><td>--</td><td>--</td><td>--</td><td>0.19</td><td>0.7</td><td>0.7</td><td>792.0</td><td>--</td><td>--</td><td>--</td><td>--</td><td>--</td><td>--</td><td>--</td><td>--</td><td>Published in a refereed paper</td><td>Primary Transit</td><td>--</td><td>--</td><td>KOI 82.05</td><td>--</td><td>Kepler-102</td><td>281.482727</td><td>47.208031</td><td>11.492</td><td>11.15</td><td>9.984</td><td>9.446</td><td>9.351</td><td>--</td><td>--</td><td>--</td><td>0.18</td><td>0.47</td><td>0.42</td><td>0.81</td><td>0.09</td><td>0.04</td><td>0.76</td><td>0.07</td><td>0.07</td><td>--</td><td>1.41</td><td>--</td><td>--</td><td>4809.0</td><td>41.0</td><td>41.0</td><td>--</td><td>--</td><td>KIC 10187017, KOI-82</td></tr>\n",
       "<tr><td>Kepler-444 c</td><td>Confirmed</td><td>--</td><td>--</td><td>--</td><td>--</td><td>--</td><td>--</td><td>0.0437</td><td>0.0021</td><td>0.0021</td><td>4.5458841</td><td>7e-06</td><td>7e-06</td><td>0.04881</td><td>0.00093</td><td>0.00093</td><td>0.12</td><td>0.12</td><td>0.17</td><td>88.2</td><td>1.2</td><td>1.2</td><td>--</td><td>2015</td><td>2016-01-12</td><td>--</td><td>--</td><td>--</td><td>--</td><td>--</td><td>--</td><td>--</td><td>--</td><td>--</td><td>2454964.522</td><td>0.0013</td><td>0.0013</td><td>--</td><td>--</td><td>--</td><td>--</td><td>--</td><td>--</td><td>--</td><td>--</td><td>--</td><td>--</td><td>--</td><td>--</td><td>--</td><td>--</td><td>--</td><td>--</td><td>--</td><td>--</td><td>--</td><td>--</td><td>--</td><td>--</td><td>--</td><td>--</td><td>Published in a refereed paper</td><td>Primary Transit</td><td>--</td><td>Primary Transit</td><td>--</td><td>--</td><td>Kepler-444</td><td>289.754166667</td><td>41.634722236</td><td>9.0</td><td>--</td><td>--</td><td>--</td><td>--</td><td>--</td><td>--</td><td>--</td><td>-0.55</td><td>0.07</td><td>0.07</td><td>0.758</td><td>0.043</td><td>0.043</td><td>0.752</td><td>0.014</td><td>0.014</td><td>--</td><td>11.23</td><td>0.99</td><td>0.99</td><td>5046.0</td><td>74.0</td><td>74.0</td><td>--</td><td>--</td><td>--</td></tr>\n",
       "<tr><td>Kepler-1308 b</td><td>Confirmed</td><td>--</td><td>--</td><td>--</td><td>--</td><td>--</td><td>--</td><td>0.046</td><td>0.004</td><td>0.005</td><td>2.10433812</td><td>4.24e-06</td><td>4.24e-06</td><td>--</td><td>--</td><td>--</td><td>--</td><td>--</td><td>--</td><td>--</td><td>--</td><td>--</td><td>--</td><td>2016</td><td>2016-05-12</td><td>--</td><td>--</td><td>--</td><td>--</td><td>--</td><td>--</td><td>--</td><td>--</td><td>--</td><td>--</td><td>--</td><td>--</td><td>--</td><td>--</td><td>--</td><td>--</td><td>--</td><td>--</td><td>--</td><td>--</td><td>--</td><td>--</td><td>--</td><td>--</td><td>--</td><td>--</td><td>--</td><td>--</td><td>--</td><td>--</td><td>--</td><td>--</td><td>--</td><td>--</td><td>--</td><td>--</td><td>Announced on a website</td><td>Primary Transit</td><td>--</td><td>--</td><td>--</td><td>--</td><td>Kepler-1308</td><td>285.928896</td><td>38.520962</td><td>--</td><td>--</td><td>11.878</td><td>11.24</td><td>11.023</td><td>73.0</td><td>--</td><td>--</td><td>-0.13</td><td>0.074</td><td>0.078</td><td>0.35</td><td>0.04</td><td>0.04</td><td>0.34</td><td>0.03</td><td>0.03</td><td>--</td><td>--</td><td>--</td><td>--</td><td>3468.0</td><td>30.71</td><td>33.65</td><td>--</td><td>--</td><td>--</td></tr>\n",
       "<tr><td>Kepler-444 d</td><td>Confirmed</td><td>--</td><td>--</td><td>--</td><td>--</td><td>--</td><td>--</td><td>0.0473</td><td>0.0022</td><td>0.0022</td><td>6.189392</td><td>1.2e-05</td><td>1.2e-05</td><td>0.06</td><td>0.0011</td><td>0.0011</td><td>0.18</td><td>0.18</td><td>0.16</td><td>88.16</td><td>0.81</td><td>0.55</td><td>--</td><td>2015</td><td>2016-01-12</td><td>--</td><td>--</td><td>--</td><td>--</td><td>--</td><td>--</td><td>--</td><td>--</td><td>--</td><td>2454967.7869</td><td>0.0015</td><td>0.0015</td><td>--</td><td>--</td><td>--</td><td>--</td><td>--</td><td>--</td><td>--</td><td>--</td><td>--</td><td>--</td><td>--</td><td>--</td><td>--</td><td>--</td><td>--</td><td>--</td><td>--</td><td>--</td><td>--</td><td>--</td><td>--</td><td>--</td><td>--</td><td>--</td><td>Published in a refereed paper</td><td>Primary Transit</td><td>--</td><td>Primary Transit</td><td>--</td><td>--</td><td>Kepler-444</td><td>289.754166667</td><td>41.634722236</td><td>9.0</td><td>--</td><td>--</td><td>--</td><td>--</td><td>--</td><td>--</td><td>--</td><td>-0.55</td><td>0.07</td><td>0.07</td><td>0.758</td><td>0.043</td><td>0.043</td><td>0.752</td><td>0.014</td><td>0.014</td><td>--</td><td>11.23</td><td>0.99</td><td>0.99</td><td>5046.0</td><td>74.0</td><td>74.0</td><td>--</td><td>--</td><td>--</td></tr>\n",
       "<tr><td>Kepler-444 e</td><td>Confirmed</td><td>--</td><td>--</td><td>--</td><td>--</td><td>--</td><td>--</td><td>0.0476</td><td>0.0017</td><td>0.0017</td><td>7.743493</td><td>1.7e-05</td><td>1.7e-05</td><td>0.0696</td><td>0.0013</td><td>0.0013</td><td>0.02</td><td>0.02</td><td>0.27</td><td>89.13</td><td>0.54</td><td>0.54</td><td>--</td><td>2015</td><td>2016-01-12</td><td>--</td><td>--</td><td>--</td><td>--</td><td>--</td><td>--</td><td>--</td><td>--</td><td>--</td><td>2454968.0927</td><td>0.0018</td><td>0.0018</td><td>--</td><td>--</td><td>--</td><td>--</td><td>--</td><td>--</td><td>--</td><td>--</td><td>--</td><td>--</td><td>--</td><td>--</td><td>--</td><td>--</td><td>--</td><td>--</td><td>--</td><td>--</td><td>--</td><td>--</td><td>--</td><td>--</td><td>--</td><td>--</td><td>Published in a refereed paper</td><td>Primary Transit</td><td>--</td><td>Primary Transit</td><td>--</td><td>--</td><td>Kepler-444</td><td>289.754166667</td><td>41.634722236</td><td>9.0</td><td>--</td><td>--</td><td>--</td><td>--</td><td>--</td><td>--</td><td>--</td><td>-0.55</td><td>0.07</td><td>0.07</td><td>0.758</td><td>0.043</td><td>0.043</td><td>0.752</td><td>0.014</td><td>0.014</td><td>--</td><td>11.23</td><td>0.99</td><td>0.99</td><td>5046.0</td><td>74.0</td><td>74.0</td><td>--</td><td>--</td><td>--</td></tr>\n",
       "<tr><td>Kepler-62 c</td><td>Confirmed</td><td>0.0126</td><td>0.0126</td><td>0.0</td><td>--</td><td>--</td><td>--</td><td>0.048</td><td>0.0027</td><td>0.0027</td><td>12.4417</td><td>0.0001</td><td>0.0001</td><td>0.0929</td><td>0.0009</td><td>0.0009</td><td>--</td><td>--</td><td>--</td><td>89.7</td><td>0.2</td><td>0.2</td><td>--</td><td>2013</td><td>2014-05-22</td><td>--</td><td>--</td><td>--</td><td>--</td><td>--</td><td>--</td><td>--</td><td>--</td><td>--</td><td>2454967.651</td><td>0.008</td><td>0.008</td><td>--</td><td>--</td><td>--</td><td>--</td><td>--</td><td>--</td><td>--</td><td>--</td><td>--</td><td>--</td><td>--</td><td>--</td><td>--</td><td>--</td><td>--</td><td>--</td><td>--</td><td>--</td><td>--</td><td>--</td><td>--</td><td>--</td><td>--</td><td>--</td><td>Published in a refereed paper</td><td>Primary Transit</td><td>--</td><td>--</td><td>--</td><td>--</td><td>Kepler-62</td><td>283.2125</td><td>45.3499</td><td>14.0</td><td>--</td><td>--</td><td>--</td><td>--</td><td>--</td><td>--</td><td>--</td><td>-0.21</td><td>--</td><td>--</td><td>0.69</td><td>0.02</td><td>0.02</td><td>0.63</td><td>0.02</td><td>0.02</td><td>K2V</td><td>--</td><td>--</td><td>--</td><td>4869.0</td><td>--</td><td>--</td><td>--</td><td>--</td><td>--</td></tr>\n",
       "<tr><td>Kepler-42 d</td><td>Confirmed</td><td>0.003</td><td>inf</td><td>nan</td><td>--</td><td>--</td><td>--</td><td>0.051</td><td>0.016</td><td>0.016</td><td>1.856169</td><td>1.4e-05</td><td>1.4e-05</td><td>0.0154</td><td>--</td><td>--</td><td>--</td><td>--</td><td>--</td><td>--</td><td>--</td><td>--</td><td>0.000398</td><td>2012</td><td>2013-08-30</td><td>--</td><td>--</td><td>--</td><td>--</td><td>--</td><td>--</td><td>--</td><td>--</td><td>--</td><td>--</td><td>--</td><td>--</td><td>--</td><td>--</td><td>--</td><td>--</td><td>--</td><td>--</td><td>--</td><td>--</td><td>--</td><td>--</td><td>--</td><td>--</td><td>--</td><td>--</td><td>--</td><td>--</td><td>--</td><td>--</td><td>--</td><td>--</td><td>--</td><td>--</td><td>--</td><td>--</td><td>Published in a refereed paper</td><td>Primary Transit</td><td>--</td><td>--</td><td>--</td><td>--</td><td>Kepler-42</td><td>292.2208333</td><td>44.6194444</td><td>16.12</td><td>--</td><td>--</td><td>--</td><td>--</td><td>38.7</td><td>6.3</td><td>6.3</td><td>-0.48</td><td>0.17</td><td>0.17</td><td>0.13</td><td>0.05</td><td>0.05</td><td>0.17</td><td>0.05</td><td>0.05</td><td>--</td><td>--</td><td>--</td><td>--</td><td>3068.0</td><td>174.0</td><td>174.0</td><td>--</td><td>--</td><td>--</td></tr>\n",
       "<tr><td>KOI-1843 b</td><td>Confirmed</td><td>0.001</td><td>0.0005</td><td>0.001</td><td>--</td><td>--</td><td>--</td><td>0.052</td><td>0.007</td><td>0.01</td><td>0.1768913</td><td>2e-07</td><td>2e-07</td><td>--</td><td>--</td><td>--</td><td>--</td><td>--</td><td>--</td><td>72.0</td><td>20.0</td><td>12.0</td><td>--</td><td>2013</td><td>2016-06-27</td><td>--</td><td>--</td><td>--</td><td>--</td><td>--</td><td>--</td><td>--</td><td>--</td><td>--</td><td>--</td><td>--</td><td>--</td><td>--</td><td>--</td><td>--</td><td>--</td><td>--</td><td>--</td><td>--</td><td>--</td><td>--</td><td>--</td><td>--</td><td>--</td><td>--</td><td>--</td><td>--</td><td>--</td><td>--</td><td>--</td><td>--</td><td>--</td><td>--</td><td>--</td><td>--</td><td>--</td><td>Published in a refereed paper</td><td>Primary Transit</td><td>--</td><td>--</td><td>--</td><td>--</td><td>KOI-1843</td><td>285.0125</td><td>40.2208</td><td>--</td><td>--</td><td>12.0</td><td>--</td><td>--</td><td>--</td><td>--</td><td>--</td><td>0.0</td><td>0.1</td><td>0.1</td><td>0.46</td><td>0.05</td><td>0.08</td><td>0.45</td><td>0.05</td><td>0.08</td><td>--</td><td>--</td><td>--</td><td>--</td><td>3584.0</td><td>65.0</td><td>65.0</td><td>--</td><td>--</td><td>--</td></tr>\n",
       "<tr><td>...</td><td>...</td><td>...</td><td>...</td><td>...</td><td>...</td><td>...</td><td>...</td><td>...</td><td>...</td><td>...</td><td>...</td><td>...</td><td>...</td><td>...</td><td>...</td><td>...</td><td>...</td><td>...</td><td>...</td><td>...</td><td>...</td><td>...</td><td>...</td><td>...</td><td>...</td><td>...</td><td>...</td><td>...</td><td>...</td><td>...</td><td>...</td><td>...</td><td>...</td><td>...</td><td>...</td><td>...</td><td>...</td><td>...</td><td>...</td><td>...</td><td>...</td><td>...</td><td>...</td><td>...</td><td>...</td><td>...</td><td>...</td><td>...</td><td>...</td><td>...</td><td>...</td><td>...</td><td>...</td><td>...</td><td>...</td><td>...</td><td>...</td><td>...</td><td>...</td><td>...</td><td>...</td><td>...</td><td>...</td><td>...</td><td>...</td><td>...</td><td>...</td><td>...</td><td>...</td><td>...</td><td>...</td><td>...</td><td>...</td><td>...</td><td>...</td><td>...</td><td>...</td><td>...</td><td>...</td><td>...</td><td>...</td><td>...</td><td>...</td><td>...</td><td>...</td><td>...</td><td>...</td><td>...</td><td>...</td><td>...</td><td>...</td><td>...</td><td>...</td><td>...</td><td>...</td><td>...</td><td>...</td></tr>\n",
       "<tr><td>XO-6 b</td><td>Confirmed</td><td>1.9</td><td>0.5</td><td>0.5</td><td>--</td><td>--</td><td>--</td><td>2.07</td><td>0.22</td><td>0.22</td><td>3.7650007</td><td>8.1e-06</td><td>8.1e-06</td><td>0.0815</td><td>0.0077</td><td>0.0077</td><td>0.0</td><td>--</td><td>--</td><td>86.0</td><td>0.2</td><td>0.2</td><td>--</td><td>2016</td><td>2016-12-09</td><td>--</td><td>--</td><td>--</td><td>--</td><td>--</td><td>--</td><td>--</td><td>--</td><td>--</td><td>2456652.71245</td><td>0.00055</td><td>0.00055</td><td>--</td><td>--</td><td>--</td><td>339.3</td><td>2.3</td><td>2.3</td><td>0.633</td><td>0.034</td><td>0.034</td><td>--</td><td>--</td><td>--</td><td>200.0</td><td>70.0</td><td>70.0</td><td>1577.0</td><td>--</td><td>--</td><td>--</td><td>--</td><td>--</td><td>--</td><td>--</td><td>--</td><td>Published in a refereed paper</td><td>Primary Transit</td><td>Radial Velocity</td><td>Primary Transit</td><td>--</td><td>--</td><td>XO-6</td><td>94.79166667</td><td>73.827777803</td><td>10.25</td><td>--</td><td>--</td><td>--</td><td>--</td><td>86.0</td><td>31.0</td><td>79.0</td><td>-0.07</td><td>0.1</td><td>0.1</td><td>1.47</td><td>0.06</td><td>0.06</td><td>1.93</td><td>0.18</td><td>0.18</td><td>F5</td><td>1.88</td><td>0.2</td><td>0.9</td><td>6720.0</td><td>100.0</td><td>100.0</td><td>--</td><td>--</td><td>TYC 4357-995-1</td></tr>\n",
       "<tr><td>HAT-P-67 b</td><td>Confirmed</td><td>0.34</td><td>0.19</td><td>0.25</td><td>--</td><td>--</td><td>--</td><td>2.085</td><td>0.071</td><td>0.096</td><td>4.81010205</td><td>3.3e-07</td><td>4.3e-07</td><td>0.06505</td><td>0.00079</td><td>0.00273</td><td>0.24</td><td>0.12</td><td>0.12</td><td>88.8</td><td>1.3</td><td>1.3</td><td>--</td><td>2017</td><td>2017-02-07</td><td>172.0</td><td>43.0</td><td>31.0</td><td>--</td><td>--</td><td>--</td><td>--</td><td>--</td><td>--</td><td>2455961.38467</td><td>0.00064</td><td>0.00076</td><td>--</td><td>--</td><td>--</td><td>--</td><td>--</td><td>--</td><td>0.12</td><td>0.08</td><td>0.12</td><td>--</td><td>--</td><td>--</td><td>52.0</td><td>52.0</td><td>0.0</td><td>1903.0</td><td>--</td><td>--</td><td>--</td><td>--</td><td>--</td><td>--</td><td>--</td><td>--</td><td>Published in a refereed paper</td><td>Primary Transit</td><td>Radial Velocity</td><td>Primary Transit</td><td>--</td><td>--</td><td>HAT-P-67</td><td>256.612500009</td><td>44.776944468</td><td>10.69</td><td>--</td><td>--</td><td>--</td><td>--</td><td>320.0</td><td>14.0</td><td>48.0</td><td>-0.08</td><td>0.04</td><td>0.04</td><td>1.642</td><td>0.072</td><td>0.155</td><td>1.546</td><td>0.014</td><td>0.084</td><td>F</td><td>1.24</td><td>0.22</td><td>0.27</td><td>6406.0</td><td>61.0</td><td>65.0</td><td>--</td><td>--</td><td>--</td></tr>\n",
       "<tr><td>HD 75784 c</td><td>Confirmed</td><td>5.6</td><td>1.2</td><td>1.2</td><td>5.6</td><td>1.2</td><td>1.2</td><td>--</td><td>--</td><td>--</td><td>5040.0</td><td>3414.0</td><td>3414.0</td><td>6.5</td><td>2.0</td><td>2.0</td><td>0.36</td><td>0.16</td><td>0.16</td><td>--</td><td>--</td><td>--</td><td>--</td><td>2015</td><td>2016-08-22</td><td>--</td><td>--</td><td>--</td><td>--</td><td>--</td><td>--</td><td>--</td><td>--</td><td>--</td><td>--</td><td>--</td><td>--</td><td>--</td><td>--</td><td>--</td><td>--</td><td>--</td><td>--</td><td>--</td><td>--</td><td>--</td><td>--</td><td>--</td><td>--</td><td>57.0</td><td>11.0</td><td>11.0</td><td>--</td><td>--</td><td>--</td><td>--</td><td>--</td><td>--</td><td>--</td><td>--</td><td>--</td><td>Published in a refereed paper</td><td>Primary Transit</td><td>Radial Velocity</td><td>--</td><td>--</td><td>--</td><td>HD 75784</td><td>133.099755675</td><td>13.2334359492</td><td>7.84</td><td>--</td><td>--</td><td>--</td><td>--</td><td>68.7</td><td>6.2</td><td>6.2</td><td>0.25</td><td>0.03</td><td>0.03</td><td>1.41</td><td>0.08</td><td>0.08</td><td>3.3</td><td>0.3</td><td>0.3</td><td>K3 IV</td><td>4.0</td><td>0.7</td><td>0.7</td><td>4917.0</td><td>44.0</td><td>44.0</td><td>--</td><td>--</td><td>--</td></tr>\n",
       "<tr><td>HD 75784 b</td><td>Confirmed</td><td>1.15</td><td>0.3</td><td>0.3</td><td>1.15</td><td>0.3</td><td>0.3</td><td>--</td><td>--</td><td>--</td><td>341.7</td><td>6.1</td><td>6.1</td><td>1.073</td><td>0.013</td><td>0.013</td><td>0.13</td><td>0.1</td><td>0.1</td><td>--</td><td>--</td><td>--</td><td>--</td><td>2014</td><td>2016-08-07</td><td>--</td><td>--</td><td>--</td><td>--</td><td>--</td><td>--</td><td>--</td><td>--</td><td>--</td><td>--</td><td>--</td><td>--</td><td>--</td><td>--</td><td>--</td><td>--</td><td>--</td><td>--</td><td>--</td><td>--</td><td>--</td><td>--</td><td>--</td><td>--</td><td>26.7</td><td>6.6</td><td>6.6</td><td>--</td><td>--</td><td>--</td><td>--</td><td>--</td><td>--</td><td>--</td><td>--</td><td>--</td><td>Published in a refereed paper</td><td>Primary Transit</td><td>Radial Velocity</td><td>--</td><td>--</td><td>--</td><td>HD 75784</td><td>133.099755675</td><td>13.2334359492</td><td>7.84</td><td>--</td><td>--</td><td>--</td><td>--</td><td>68.7</td><td>6.2</td><td>6.2</td><td>0.25</td><td>0.03</td><td>0.03</td><td>1.41</td><td>0.08</td><td>0.08</td><td>3.3</td><td>0.3</td><td>0.3</td><td>K3 IV</td><td>4.0</td><td>0.7</td><td>0.7</td><td>4917.0</td><td>44.0</td><td>44.0</td><td>--</td><td>--</td><td>--</td></tr>\n",
       "<tr><td>WASP-81 c</td><td>Confirmed</td><td>56.6</td><td>0.2</td><td>0.2</td><td>56.6</td><td>0.2</td><td>0.2</td><td>--</td><td>--</td><td>--</td><td>1297.0</td><td>7.8</td><td>8.1</td><td>2.426</td><td>0.045</td><td>0.044</td><td>0.557</td><td>0.0044</td><td>0.0044</td><td>--</td><td>--</td><td>--</td><td>--</td><td>2016</td><td>2016-12-27</td><td>321.86</td><td>0.0051</td><td>0.052</td><td>--</td><td>--</td><td>--</td><td>--</td><td>--</td><td>--</td><td>2456936.5</td><td>2.5</td><td>2.6</td><td>--</td><td>--</td><td>--</td><td>--</td><td>--</td><td>--</td><td>--</td><td>--</td><td>--</td><td>--</td><td>--</td><td>--</td><td>1169.3</td><td>6.6</td><td>6.9</td><td>--</td><td>--</td><td>--</td><td>--</td><td>--</td><td>--</td><td>--</td><td>--</td><td>--</td><td>Published in a refereed paper</td><td>Primary Transit</td><td>Radial Velocity</td><td>Primary Transit</td><td>--</td><td>--</td><td>WASP-81</td><td>304.207875017</td><td>3.2940833476</td><td>--</td><td>--</td><td>--</td><td>--</td><td>10.892</td><td>410.0</td><td>70.0</td><td>70.0</td><td>-0.36</td><td>0.14</td><td>0.14</td><td>1.08</td><td>0.058</td><td>0.059</td><td>1.283</td><td>0.037</td><td>0.04</td><td>G1</td><td>--</td><td>--</td><td>--</td><td>5870.0</td><td>120.0</td><td>120.0</td><td>--</td><td>--</td><td>--</td></tr>\n",
       "<tr><td>HAT-P-44 c</td><td>Confirmed</td><td>1.6</td><td>0.2</td><td>0.2</td><td>--</td><td>--</td><td>--</td><td>--</td><td>--</td><td>--</td><td>219.9</td><td>4.5</td><td>4.5</td><td>0.699</td><td>0.014</td><td>0.014</td><td>--</td><td>--</td><td>--</td><td>--</td><td>--</td><td>--</td><td>--</td><td>2013</td><td>2013-08-14</td><td>--</td><td>--</td><td>--</td><td>--</td><td>--</td><td>--</td><td>--</td><td>--</td><td>--</td><td>--</td><td>--</td><td>--</td><td>--</td><td>--</td><td>--</td><td>--</td><td>--</td><td>--</td><td>--</td><td>--</td><td>--</td><td>--</td><td>--</td><td>--</td><td>--</td><td>--</td><td>--</td><td>--</td><td>--</td><td>--</td><td>--</td><td>--</td><td>--</td><td>--</td><td>--</td><td>--</td><td>Published in a refereed paper</td><td>Primary Transit</td><td>--</td><td>--</td><td>--</td><td>--</td><td>HAT-P-44</td><td>213.1458</td><td>47.0147</td><td>13.212</td><td>--</td><td>--</td><td>--</td><td>--</td><td>374.0</td><td>23.0</td><td>42.0</td><td>0.33</td><td>0.1</td><td>0.1</td><td>0.939</td><td>0.041</td><td>0.041</td><td>0.979</td><td>0.11</td><td>0.055</td><td>--</td><td>8.9</td><td>3.9</td><td>3.9</td><td>5295.0</td><td>100.0</td><td>100.0</td><td>--</td><td>--</td><td>--</td></tr>\n",
       "<tr><td>KIC 9413313 b</td><td>Confirmed</td><td>--</td><td>--</td><td>--</td><td>--</td><td>--</td><td>--</td><td>--</td><td>--</td><td>--</td><td>--</td><td>--</td><td>--</td><td>--</td><td>--</td><td>--</td><td>--</td><td>--</td><td>--</td><td>--</td><td>--</td><td>--</td><td>--</td><td>2015</td><td>2016-05-23</td><td>--</td><td>--</td><td>--</td><td>--</td><td>--</td><td>--</td><td>--</td><td>--</td><td>--</td><td>--</td><td>--</td><td>--</td><td>--</td><td>--</td><td>--</td><td>--</td><td>--</td><td>--</td><td>--</td><td>--</td><td>--</td><td>--</td><td>--</td><td>--</td><td>--</td><td>--</td><td>--</td><td>--</td><td>--</td><td>--</td><td>--</td><td>--</td><td>--</td><td>--</td><td>--</td><td>--</td><td>Published in a refereed paper</td><td>Primary Transit</td><td>--</td><td>Primary Transit</td><td>--</td><td>--</td><td>KIC 9413313</td><td>295.41666668</td><td>45.903611132</td><td>14.5</td><td>--</td><td>--</td><td>--</td><td>--</td><td>--</td><td>--</td><td>--</td><td>0.02</td><td>0.28</td><td>0.28</td><td>0.95</td><td>0.23</td><td>0.23</td><td>1.45</td><td>0.8</td><td>0.8</td><td>--</td><td>--</td><td>--</td><td>--</td><td>5359.0</td><td>143.0</td><td>167.0</td><td>--</td><td>--</td><td>--</td></tr>\n",
       "<tr><td>HD 10442 b</td><td>Confirmed</td><td>2.1</td><td>0.15</td><td>0.15</td><td>2.1</td><td>0.15</td><td>0.15</td><td>--</td><td>--</td><td>--</td><td>1043.0</td><td>9.0</td><td>9.0</td><td>2.335</td><td>0.014</td><td>0.014</td><td>0.11</td><td>0.06</td><td>0.06</td><td>--</td><td>--</td><td>--</td><td>--</td><td>2014</td><td>2016-08-07</td><td>--</td><td>--</td><td>--</td><td>--</td><td>--</td><td>--</td><td>--</td><td>--</td><td>--</td><td>--</td><td>--</td><td>--</td><td>--</td><td>--</td><td>--</td><td>--</td><td>--</td><td>--</td><td>--</td><td>--</td><td>--</td><td>--</td><td>--</td><td>--</td><td>31.5</td><td>2.2</td><td>2.2</td><td>--</td><td>--</td><td>--</td><td>--</td><td>--</td><td>--</td><td>--</td><td>--</td><td>--</td><td>Published in a refereed paper</td><td>Primary Transit</td><td>Radial Velocity</td><td>--</td><td>--</td><td>--</td><td>HD 10442</td><td>25.4714266844</td><td>2.70437918417</td><td>7.84</td><td>--</td><td>--</td><td>--</td><td>--</td><td>--</td><td>--</td><td>--</td><td>0.11</td><td>0.03</td><td>0.03</td><td>1.56</td><td>0.09</td><td>0.09</td><td>--</td><td>--</td><td>--</td><td>K2 IV</td><td>--</td><td>--</td><td>--</td><td>5034.0</td><td>44.0</td><td>44.0</td><td>--</td><td>--</td><td>--</td></tr>\n",
       "<tr><td>WD 1145+017 b</td><td>Confirmed</td><td>2.1e-06</td><td>2.1e-06</td><td>0.0</td><td>--</td><td>--</td><td>--</td><td>--</td><td>--</td><td>--</td><td>0.1875</td><td>0.04</td><td>0.04</td><td>--</td><td>--</td><td>--</td><td>--</td><td>--</td><td>--</td><td>--</td><td>--</td><td>--</td><td>--</td><td>2015</td><td>2015-10-26</td><td>--</td><td>--</td><td>--</td><td>--</td><td>--</td><td>--</td><td>--</td><td>--</td><td>--</td><td>2457151.7762</td><td>0.00018</td><td>0.00018</td><td>--</td><td>--</td><td>--</td><td>--</td><td>--</td><td>--</td><td>--</td><td>--</td><td>--</td><td>--</td><td>--</td><td>--</td><td>--</td><td>--</td><td>--</td><td>--</td><td>--</td><td>--</td><td>--</td><td>--</td><td>--</td><td>--</td><td>--</td><td>--</td><td>Published in a refereed paper</td><td>Primary Transit</td><td>Theoretical</td><td>--</td><td>--</td><td>--</td><td>WD 1145+017</td><td>177.137500011</td><td>1.483055578</td><td>17.0</td><td>--</td><td>--</td><td>--</td><td>--</td><td>174.0</td><td>--</td><td>--</td><td>--</td><td>--</td><td>--</td><td>--</td><td>--</td><td>--</td><td>--</td><td>--</td><td>--</td><td>WD</td><td>--</td><td>--</td><td>--</td><td>15900.0</td><td>500.0</td><td>500.0</td><td>--</td><td>--</td><td>EPIC 201563164</td></tr>\n",
       "<tr><td>J1433 b</td><td>Confirmed</td><td>57.1</td><td>0.7</td><td>0.7</td><td>--</td><td>--</td><td>--</td><td>--</td><td>--</td><td>--</td><td>0.054</td><td>--</td><td>--</td><td>--</td><td>--</td><td>--</td><td>--</td><td>--</td><td>--</td><td>84.36</td><td>--</td><td>--</td><td>--</td><td>2016</td><td>2016-05-24</td><td>--</td><td>--</td><td>--</td><td>--</td><td>--</td><td>--</td><td>--</td><td>--</td><td>--</td><td>--</td><td>--</td><td>--</td><td>--</td><td>--</td><td>--</td><td>--</td><td>--</td><td>--</td><td>--</td><td>--</td><td>--</td><td>--</td><td>--</td><td>--</td><td>--</td><td>--</td><td>--</td><td>2370.0</td><td>--</td><td>--</td><td>--</td><td>--</td><td>--</td><td>--</td><td>--</td><td>--</td><td>Published in a refereed paper</td><td>Primary Transit</td><td>Theoretical</td><td>--</td><td>--</td><td>--</td><td>J1433</td><td>218.325000006</td><td>10.189722231</td><td>--</td><td>--</td><td>--</td><td>--</td><td>--</td><td>--</td><td>--</td><td>--</td><td>--</td><td>--</td><td>--</td><td>0.8</td><td>0.07</td><td>0.07</td><td>--</td><td>--</td><td>--</td><td>WD</td><td>--</td><td>--</td><td>--</td><td>13200.0</td><td>200.0</td><td>200.0</td><td>--</td><td>--</td><td>SDSS J143317.78+101123.</td></tr>\n",
       "</table>"
      ],
      "text/plain": [
       "<QTable masked=True length=2515>\n",
       "    # name    planet_status ... star_magnetic_field   star_alternate_names \n",
       "    str18          str9     ...         str3                 str72         \n",
       "------------- ------------- ... ------------------- -----------------------\n",
       "  Kepler-37 b     Confirmed ...                  --                      --\n",
       " Kepler-444 b     Confirmed ...                  --                      --\n",
       " Kepler-102 b     Confirmed ...                  --    KIC 10187017, KOI-82\n",
       " Kepler-444 c     Confirmed ...                  --                      --\n",
       "Kepler-1308 b     Confirmed ...                  --                      --\n",
       " Kepler-444 d     Confirmed ...                  --                      --\n",
       " Kepler-444 e     Confirmed ...                  --                      --\n",
       "  Kepler-62 c     Confirmed ...                  --                      --\n",
       "  Kepler-42 d     Confirmed ...                  --                      --\n",
       "   KOI-1843 b     Confirmed ...                  --                      --\n",
       "          ...           ... ...                 ...                     ...\n",
       "       XO-6 b     Confirmed ...                  --          TYC 4357-995-1\n",
       "   HAT-P-67 b     Confirmed ...                  --                      --\n",
       "   HD 75784 c     Confirmed ...                  --                      --\n",
       "   HD 75784 b     Confirmed ...                  --                      --\n",
       "    WASP-81 c     Confirmed ...                  --                      --\n",
       "   HAT-P-44 c     Confirmed ...                  --                      --\n",
       "KIC 9413313 b     Confirmed ...                  --                      --\n",
       "   HD 10442 b     Confirmed ...                  --                      --\n",
       "WD 1145+017 b     Confirmed ...                  --          EPIC 201563164\n",
       "      J1433 b     Confirmed ...                  -- SDSS J143317.78+101123."
      ]
     },
     "execution_count": 55,
     "metadata": {},
     "output_type": "execute_result"
    }
   ],
   "source": [
    "# masks\n",
    "mask = np.where((exo_data['dec']>0) & exo_data[''])\n",
    "per_data = exo_data[mask]\n",
    "#per_data.sort(['radius'])\n",
    "per_data.sort(['radius'])\n",
    "per_data"
   ]
  },
  {
   "cell_type": "code",
   "execution_count": 41,
   "metadata": {
    "collapsed": false
   },
   "outputs": [
    {
     "ename": "NameResolveError",
     "evalue": "Unable to find coordinates for name 'J1433'",
     "output_type": "error",
     "traceback": [
      "\u001b[0;31m---------------------------------------------------------------------------\u001b[0m",
      "\u001b[0;31mNameResolveError\u001b[0m                          Traceback (most recent call last)",
      "\u001b[0;32m<ipython-input-41-62eee5d63925>\u001b[0m in \u001b[0;36m<module>\u001b[0;34m()\u001b[0m\n\u001b[0;32m----> 1\u001b[0;31m \u001b[0mj1433\u001b[0m \u001b[0;34m=\u001b[0m \u001b[0mFixedTarget\u001b[0m\u001b[0;34m.\u001b[0m\u001b[0mfrom_name\u001b[0m\u001b[0;34m(\u001b[0m\u001b[0;34m'J1433'\u001b[0m\u001b[0;34m)\u001b[0m\u001b[0;34m\u001b[0m\u001b[0m\n\u001b[0m",
      "\u001b[0;32m/home/dm1681/anaconda3/lib/python3.5/site-packages/astroplan/target.py\u001b[0m in \u001b[0;36mfrom_name\u001b[0;34m(cls, query_name, name, **kwargs)\u001b[0m\n\u001b[1;32m    130\u001b[0m         \u001b[0;32mif\u001b[0m \u001b[0mname\u001b[0m \u001b[0;32mis\u001b[0m \u001b[0;32mNone\u001b[0m\u001b[0;34m:\u001b[0m\u001b[0;34m\u001b[0m\u001b[0m\n\u001b[1;32m    131\u001b[0m             \u001b[0mname\u001b[0m \u001b[0;34m=\u001b[0m \u001b[0mquery_name\u001b[0m\u001b[0;34m\u001b[0m\u001b[0m\n\u001b[0;32m--> 132\u001b[0;31m         \u001b[0;32mreturn\u001b[0m \u001b[0mcls\u001b[0m\u001b[0;34m(\u001b[0m\u001b[0mSkyCoord\u001b[0m\u001b[0;34m.\u001b[0m\u001b[0mfrom_name\u001b[0m\u001b[0;34m(\u001b[0m\u001b[0mquery_name\u001b[0m\u001b[0;34m)\u001b[0m\u001b[0;34m,\u001b[0m \u001b[0mname\u001b[0m\u001b[0;34m=\u001b[0m\u001b[0mname\u001b[0m\u001b[0;34m,\u001b[0m \u001b[0;34m**\u001b[0m\u001b[0mkwargs\u001b[0m\u001b[0;34m)\u001b[0m\u001b[0;34m\u001b[0m\u001b[0m\n\u001b[0m\u001b[1;32m    133\u001b[0m \u001b[0;34m\u001b[0m\u001b[0m\n\u001b[1;32m    134\u001b[0m     \u001b[0;32mdef\u001b[0m \u001b[0m__repr__\u001b[0m\u001b[0;34m(\u001b[0m\u001b[0mself\u001b[0m\u001b[0;34m)\u001b[0m\u001b[0;34m:\u001b[0m\u001b[0;34m\u001b[0m\u001b[0m\n",
      "\u001b[0;32m/home/dm1681/anaconda3/lib/python3.5/site-packages/astropy/coordinates/sky_coordinate.py\u001b[0m in \u001b[0;36mfrom_name\u001b[0;34m(cls, name, frame)\u001b[0m\n\u001b[1;32m   1252\u001b[0m         \u001b[0;32mfrom\u001b[0m \u001b[0;34m.\u001b[0m\u001b[0mname_resolve\u001b[0m \u001b[0;32mimport\u001b[0m \u001b[0mget_icrs_coordinates\u001b[0m\u001b[0;34m\u001b[0m\u001b[0m\n\u001b[1;32m   1253\u001b[0m \u001b[0;34m\u001b[0m\u001b[0m\n\u001b[0;32m-> 1254\u001b[0;31m         \u001b[0micrs_coord\u001b[0m \u001b[0;34m=\u001b[0m \u001b[0mget_icrs_coordinates\u001b[0m\u001b[0;34m(\u001b[0m\u001b[0mname\u001b[0m\u001b[0;34m)\u001b[0m\u001b[0;34m\u001b[0m\u001b[0m\n\u001b[0m\u001b[1;32m   1255\u001b[0m         \u001b[0micrs_sky_coord\u001b[0m \u001b[0;34m=\u001b[0m \u001b[0mcls\u001b[0m\u001b[0;34m(\u001b[0m\u001b[0micrs_coord\u001b[0m\u001b[0;34m)\u001b[0m\u001b[0;34m\u001b[0m\u001b[0m\n\u001b[1;32m   1256\u001b[0m         \u001b[0;32mif\u001b[0m \u001b[0mframe\u001b[0m \u001b[0;32min\u001b[0m \u001b[0;34m(\u001b[0m\u001b[0;34m'icrs'\u001b[0m\u001b[0;34m,\u001b[0m \u001b[0micrs_coord\u001b[0m\u001b[0;34m.\u001b[0m\u001b[0m__class__\u001b[0m\u001b[0;34m)\u001b[0m\u001b[0;34m:\u001b[0m\u001b[0;34m\u001b[0m\u001b[0m\n",
      "\u001b[0;32m/home/dm1681/anaconda3/lib/python3.5/site-packages/astropy/coordinates/name_resolve.py\u001b[0m in \u001b[0;36mget_icrs_coordinates\u001b[0;34m(name)\u001b[0m\n\u001b[1;32m    171\u001b[0m                   \u001b[0;34m.\u001b[0m\u001b[0mformat\u001b[0m\u001b[0;34m(\u001b[0m\u001b[0mname\u001b[0m\u001b[0;34m,\u001b[0m \u001b[0mdatabase\u001b[0m\u001b[0;34m)\u001b[0m\u001b[0;34m\u001b[0m\u001b[0m\n\u001b[1;32m    172\u001b[0m \u001b[0;34m\u001b[0m\u001b[0m\n\u001b[0;32m--> 173\u001b[0;31m         \u001b[0;32mraise\u001b[0m \u001b[0mNameResolveError\u001b[0m\u001b[0;34m(\u001b[0m\u001b[0merr\u001b[0m\u001b[0;34m)\u001b[0m\u001b[0;34m\u001b[0m\u001b[0m\n\u001b[0m\u001b[1;32m    174\u001b[0m \u001b[0;34m\u001b[0m\u001b[0m\n\u001b[1;32m    175\u001b[0m     \u001b[0;31m# Return SkyCoord object\u001b[0m\u001b[0;34m\u001b[0m\u001b[0;34m\u001b[0m\u001b[0m\n",
      "\u001b[0;31mNameResolveError\u001b[0m: Unable to find coordinates for name 'J1433'"
     ]
    }
   ],
   "source": [
    "coords = SkyCoord()\n",
    "j1433 = FixedTarget(name = 'J1433', coords = coords)"
   ]
  },
  {
   "cell_type": "code",
   "execution_count": 51,
   "metadata": {
    "collapsed": false
   },
   "outputs": [
    {
     "data": {
      "text/html": [
       "&lt;MaskedColumn name=&apos;detection_type&apos; dtype=&apos;str20&apos; length=2720&gt;\n",
       "<table>\n",
       "<tr><td>Primary Transit</td></tr>\n",
       "<tr><td>Primary Transit</td></tr>\n",
       "<tr><td>Primary Transit</td></tr>\n",
       "<tr><td>Primary Transit</td></tr>\n",
       "<tr><td>Primary Transit</td></tr>\n",
       "<tr><td>Primary Transit</td></tr>\n",
       "<tr><td>Primary Transit</td></tr>\n",
       "<tr><td>Primary Transit</td></tr>\n",
       "<tr><td>Primary Transit</td></tr>\n",
       "<tr><td>Primary Transit</td></tr>\n",
       "<tr><td>Primary Transit</td></tr>\n",
       "<tr><td>Primary Transit</td></tr>\n",
       "<tr><td>...</td></tr>\n",
       "<tr><td>Primary Transit</td></tr>\n",
       "<tr><td>Primary Transit</td></tr>\n",
       "<tr><td>Primary Transit</td></tr>\n",
       "<tr><td>Primary Transit</td></tr>\n",
       "<tr><td>Primary Transit</td></tr>\n",
       "<tr><td>Primary Transit</td></tr>\n",
       "<tr><td>Primary Transit</td></tr>\n",
       "<tr><td>Primary Transit</td></tr>\n",
       "<tr><td>Primary Transit</td></tr>\n",
       "<tr><td>Primary Transit</td></tr>\n",
       "<tr><td>Primary Transit</td></tr>\n",
       "<tr><td>Primary Transit</td></tr>\n",
       "</table>"
      ],
      "text/plain": [
       "<MaskedColumn name='detection_type' dtype='str20' length=2720>\n",
       "Primary Transit\n",
       "Primary Transit\n",
       "Primary Transit\n",
       "Primary Transit\n",
       "Primary Transit\n",
       "Primary Transit\n",
       "Primary Transit\n",
       "Primary Transit\n",
       "Primary Transit\n",
       "Primary Transit\n",
       "Primary Transit\n",
       "Primary Transit\n",
       "            ...\n",
       "Primary Transit\n",
       "Primary Transit\n",
       "Primary Transit\n",
       "Primary Transit\n",
       "Primary Transit\n",
       "Primary Transit\n",
       "Primary Transit\n",
       "Primary Transit\n",
       "Primary Transit\n",
       "Primary Transit\n",
       "Primary Transit\n",
       "Primary Transit"
      ]
     },
     "execution_count": 51,
     "metadata": {},
     "output_type": "execute_result"
    }
   ],
   "source": [
    "exo_data['detection_type']"
   ]
  },
  {
   "cell_type": "code",
   "execution_count": null,
   "metadata": {
    "collapsed": true
   },
   "outputs": [],
   "source": []
  }
 ],
 "metadata": {
  "anaconda-cloud": {},
  "kernelspec": {
   "display_name": "Python [default]",
   "language": "python",
   "name": "python3"
  },
  "language_info": {
   "codemirror_mode": {
    "name": "ipython",
    "version": 3
   },
   "file_extension": ".py",
   "mimetype": "text/x-python",
   "name": "python",
   "nbconvert_exporter": "python",
   "pygments_lexer": "ipython3",
   "version": "3.5.2"
  }
 },
 "nbformat": 4,
 "nbformat_minor": 1
}
