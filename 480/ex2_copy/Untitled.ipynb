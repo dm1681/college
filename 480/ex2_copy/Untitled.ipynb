{
 "cells": [
  {
   "cell_type": "code",
   "execution_count": 33,
   "metadata": {
    "collapsed": false
   },
   "outputs": [],
   "source": [
    "import numpy as np\n",
    "import matplotlib.pyplot as plt\n",
    "import astropy.units as u\n",
    "import astropy.constants as const\n",
    "from astropy.table import QTable\n",
    "%matplotlib inline"
   ]
  },
  {
   "cell_type": "code",
   "execution_count": 35,
   "metadata": {
    "collapsed": false
   },
   "outputs": [
    {
     "data": {
      "image/png": "[encoded data removed]",
      "text/plain": [
       "<matplotlib.figure.Figure at 0x7fb72190dc90>"
      ]
     },
     "metadata": {},
     "output_type": "display_data"
    }
   ],
   "source": [
    "m92_04_data = QTable.read('04_data', format='ascii') # V\n",
    "m92_06_data = QTable.read('06_data', format='ascii') # B\n",
    "\n",
    "m92_04_data.rename_column('col4','mag_v')\n",
    "m92_04_data.rename_column('col2', 'x')\n",
    "m92_04_data.rename_column('col3', 'y')\n",
    "\n",
    "m92_06_data.rename_column('col4','mag_b')\n",
    "m92_06_data.rename_column('col2', 'x')\n",
    "m92_06_data.rename_column('col3', 'y')\n",
    "\n",
    "\n",
    "mag_v = m92_04_data['mag_v']\n",
    "mag_b = m92_06_data['mag_b']\n",
    "b_v = mag_b - mag_v\n",
    "\n",
    "fig,ax = plt.subplots(1,1)\n",
    "fig.set_size_inches(10,10)\n",
    "\n",
    "ax.scatter(b_v, mag_v)\n",
    "ax.set_ylabel('mag_v')\n",
    "ax.set_xlabel('b-v')\n",
    "\n",
    "#ax.invert_yaxis()\n",
    "\n",
    "final_table = QTable()\n",
    "final_table['x'] = m92_04_data['x']\n",
    "final_table['y'] = m92_04_data['y']\n",
    "final_table['mag_v'] = mag_v\n",
    "final_table['mag_b'] = mag_b\n",
    "final_table['b-v'] = b_v\n",
    "\n",
    "final_table.write('final_table.data', format='ascii')\n",
    "fig.savefig('V_BmV_plot1.png')"
   ]
  },
  {
   "cell_type": "code",
   "execution_count": 31,
   "metadata": {
    "collapsed": false
   },
   "outputs": [
    {
     "data": {
      "text/html": [
       "&lt;QTable length=9&gt;\n",
       "<table id=\"table140424525992144\" class=\"table-striped table-bordered table-condensed\">\n",
       "<thead><tr><th>x</th><th>y</th><th>mag_v</th><th>mag_b</th><th>b-v</th></tr></thead>\n",
       "<thead><tr><th>float64</th><th>float64</th><th>float64</th><th>float64</th><th>float64</th></tr></thead>\n",
       "<tr><td>104.496</td><td>425.609</td><td>19.003</td><td>19.402</td><td>0.399</td></tr>\n",
       "<tr><td>129.44</td><td>362.53</td><td>19.643</td><td>21.42</td><td>1.777</td></tr>\n",
       "<tr><td>44.49</td><td>322.529</td><td>18.76</td><td>19.807</td><td>1.047</td></tr>\n",
       "<tr><td>208.891</td><td>323.745</td><td>18.62</td><td>19.678</td><td>1.058</td></tr>\n",
       "<tr><td>149.613</td><td>286.134</td><td>19.136</td><td>19.511</td><td>0.375</td></tr>\n",
       "<tr><td>165.482</td><td>235.932</td><td>19.476</td><td>20.658</td><td>1.182</td></tr>\n",
       "<tr><td>234.408</td><td>134.285</td><td>17.8</td><td>18.923</td><td>1.123</td></tr>\n",
       "<tr><td>20.91</td><td>102.604</td><td>20.798</td><td>22.217</td><td>1.419</td></tr>\n",
       "<tr><td>41.592</td><td>178.623</td><td>20.599</td><td>21.698</td><td>1.099</td></tr>\n",
       "</table>"
      ],
      "text/plain": [
       "<QTable length=9>\n",
       "   x       y     mag_v   mag_b    b-v  \n",
       "float64 float64 float64 float64 float64\n",
       "------- ------- ------- ------- -------\n",
       "104.496 425.609  19.003  19.402   0.399\n",
       " 129.44  362.53  19.643   21.42   1.777\n",
       "  44.49 322.529   18.76  19.807   1.047\n",
       "208.891 323.745   18.62  19.678   1.058\n",
       "149.613 286.134  19.136  19.511   0.375\n",
       "165.482 235.932  19.476  20.658   1.182\n",
       "234.408 134.285    17.8  18.923   1.123\n",
       "  20.91 102.604  20.798  22.217   1.419\n",
       " 41.592 178.623  20.599  21.698   1.099"
      ]
     },
     "execution_count": 31,
     "metadata": {},
     "output_type": "execute_result"
    }
   ],
   "source": [
    "final_table"
   ]
  },
  {
   "cell_type": "code",
   "execution_count": 32,
   "metadata": {
    "collapsed": false
   },
   "outputs": [
    {
     "data": {
      "text/plain": [
       "1.6734009068393145"
      ]
     },
     "execution_count": 32,
     "metadata": {},
     "output_type": "execute_result"
    }
   ],
   "source": [
    "10 ** (-(19.177 - 19.736)/2.5)"
   ]
  },
  {
   "cell_type": "code",
   "execution_count": null,
   "metadata": {
    "collapsed": true
   },
   "outputs": [],
   "source": [
    "\n"
   ]
  }
 ],
 "metadata": {
  "kernelspec": {
   "display_name": "Python 2",
   "language": "python",
   "name": "python2"
  },
  "language_info": {
   "codemirror_mode": {
    "name": "ipython",
    "version": 2
   },
   "file_extension": ".py",
   "mimetype": "text/x-python",
   "name": "python",
   "nbconvert_exporter": "python",
   "pygments_lexer": "ipython2",
   "version": "2.7.13"
  }
 },
 "nbformat": 4,
 "nbformat_minor": 2
}
